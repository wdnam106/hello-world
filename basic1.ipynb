{
  "nbformat": 4,
  "nbformat_minor": 0,
  "metadata": {
    "colab": {
      "name": "basic1.ipynb",
      "version": "0.3.2",
      "provenance": [],
      "collapsed_sections": [],
      "include_colab_link": true
    },
    "kernelspec": {
      "name": "python3",
      "display_name": "Python 3"
    }
  },
  "cells": [
    {
      "cell_type": "markdown",
      "metadata": {
        "id": "view-in-github",
        "colab_type": "text"
      },
      "source": [
        "<a href=\"https://colab.research.google.com/github/wdnam106/hello-world/blob/master/basic1.ipynb\" target=\"_parent\"><img src=\"https://colab.research.google.com/assets/colab-badge.svg\" alt=\"Open In Colab\"/></a>"
      ]
    },
    {
      "metadata": {
        "id": "O1Xsf-_tTG8P",
        "colab_type": "code",
        "outputId": "8e4c69e4-71bd-4069-8f96-c18934e955e2",
        "colab": {
          "base_uri": "https://localhost:8080/",
          "height": 50
        }
      },
      "cell_type": "code",
      "source": [
        "import numpy as np\n",
        "\n",
        "np_height = np.array([[1.73, 1.68, 1.71, 1.89, 1.79], [56.2, 45.3, 65.8, 78.5, 45.9]])\n",
        "np_height\n"
      ],
      "execution_count": 30,
      "outputs": [
        {
          "output_type": "execute_result",
          "data": {
            "text/plain": [
              "array([[ 1.73,  1.68,  1.71,  1.89,  1.79],\n",
              "       [56.2 , 45.3 , 65.8 , 78.5 , 45.9 ]])"
            ]
          },
          "metadata": {
            "tags": []
          },
          "execution_count": 30
        }
      ]
    },
    {
      "metadata": {
        "id": "W26qj1Dmw_vo",
        "colab_type": "code",
        "colab": {
          "base_uri": "https://localhost:8080/",
          "height": 50
        },
        "outputId": "a669edab-988b-42a4-ee7e-2b6811fbe661"
      },
      "cell_type": "code",
      "source": [
        "np.corrcoef(np_height[:,0],np_height[:,1])"
      ],
      "execution_count": 31,
      "outputs": [
        {
          "output_type": "execute_result",
          "data": {
            "text/plain": [
              "array([[1., 1.],\n",
              "       [1., 1.]])"
            ]
          },
          "metadata": {
            "tags": []
          },
          "execution_count": 31
        }
      ]
    },
    {
      "metadata": {
        "id": "IKQnmk6DQ4_w",
        "colab_type": "code",
        "colab": {
          "base_uri": "https://localhost:8080/",
          "height": 101
        },
        "outputId": "f51956c5-6af5-43af-a0b6-2062cb9ca4e3"
      },
      "cell_type": "code",
      "source": [
        "height = np.round(np.random.normal(1.75, 0.20, 50), 2)\n",
        "height"
      ],
      "execution_count": 28,
      "outputs": [
        {
          "output_type": "execute_result",
          "data": {
            "text/plain": [
              "array([1.33, 1.63, 1.85, 1.92, 1.54, 1.57, 2.01, 1.59, 1.42, 1.75, 1.59,\n",
              "       1.43, 1.27, 1.9 , 1.99, 1.65, 1.53, 2.18, 1.65, 1.45, 1.82, 1.94,\n",
              "       1.53, 2.21, 1.55, 1.65, 2.04, 2.11, 1.79, 1.44, 1.73, 1.62, 1.73,\n",
              "       1.74, 1.81, 1.45, 1.75, 1.69, 1.94, 1.7 , 1.58, 1.62, 1.6 , 1.65,\n",
              "       1.92, 1.8 , 1.99, 1.7 , 1.57, 1.5 ])"
            ]
          },
          "metadata": {
            "tags": []
          },
          "execution_count": 28
        }
      ]
    },
    {
      "metadata": {
        "id": "TQj_Q_fDRwNx",
        "colab_type": "code",
        "colab": {
          "base_uri": "https://localhost:8080/",
          "height": 393
        },
        "outputId": "5bdbe6e5-b2f2-4f3e-bc44-121445ea0d70"
      },
      "cell_type": "code",
      "source": [
        "import matplotlib.pyplot as plt\n",
        "year = [1950, 1970, 1990, 2010]\n",
        "pop = [2.519, 3.692, 5.263, 6.972]\n",
        "plt.plot(year, pop)\n",
        "plt.xlabel('Year')\n",
        "plt.ylabel('Population')\n",
        "plt.title('World Population Projections')\n",
        "plt.yticks([0,2,4,6,8,10], ['0','2B', '4B', '6B', '8B', '10B'])\n",
        "plt.show"
      ],
      "execution_count": 37,
      "outputs": [
        {
          "output_type": "execute_result",
          "data": {
            "text/plain": [
              "<function matplotlib.pyplot.show>"
            ]
          },
          "metadata": {
            "tags": []
          },
          "execution_count": 37
        },
        {
          "output_type": "display_data",
          "data": {
            "image/png": "[encoded data removed]",
            "text/plain": [
              "<matplotlib.figure.Figure at 0x7f0e307dacc0>"
            ]
          },
          "metadata": {
            "tags": []
          }
        }
      ]
    },
    {
      "metadata": {
        "id": "IMjcsN-ERyMl",
        "colab_type": "code",
        "outputId": "cdb8f69c-f789-4fa8-bb34-2e14b832ea3b",
        "colab": {
          "base_uri": "https://localhost:8080/",
          "height": 364
        }
      },
      "cell_type": "code",
      "source": [
        "import matplotlib.pyplot as plt\n",
        "year = [1950, 1970, 1990, 2010]\n",
        "pop = [2.519, 3.692, 5.263, 6.972]\n",
        "plt.scatter(year, pop)\n",
        "plt.show"
      ],
      "execution_count": 32,
      "outputs": [
        {
          "output_type": "execute_result",
          "data": {
            "text/plain": [
              "<function matplotlib.pyplot.show>"
            ]
          },
          "metadata": {
            "tags": []
          },
          "execution_count": 32
        },
        {
          "output_type": "display_data",
          "data": {
            "image/png": "[encoded data removed]",
            "text/plain": [
              "<matplotlib.figure.Figure at 0x7f0e33223ef0>"
            ]
          },
          "metadata": {
            "tags": []
          }
        }
      ]
    },
    {
      "metadata": {
        "id": "OX6H1Vh_SnlI",
        "colab_type": "code",
        "colab": {
          "base_uri": "https://localhost:8080/",
          "height": 364
        },
        "outputId": "28009689-6edb-4aa0-947f-177ec991b258"
      },
      "cell_type": "code",
      "source": [
        "values = [0.5,1.5,1.6,2.5,9.5,4.2,2.8,9.6,18.2,6.2,1.3]\n",
        "plt.hist(values, bins = 5)\n",
        "plt.show"
      ],
      "execution_count": 35,
      "outputs": [
        {
          "output_type": "execute_result",
          "data": {
            "text/plain": [
              "<function matplotlib.pyplot.show>"
            ]
          },
          "metadata": {
            "tags": []
          },
          "execution_count": 35
        },
        {
          "output_type": "display_data",
          "data": {
            "image/png": "[encoded data removed]",
            "text/plain": [
              "<matplotlib.figure.Figure at 0x7f0e33242b70>"
            ]
          },
          "metadata": {
            "tags": []
          }
        }
      ]
    },
    {
      "metadata": {
        "id": "BbMHbDOaS8Qw",
        "colab_type": "code",
        "colab": {
          "base_uri": "https://localhost:8080/",
          "height": 34
        },
        "outputId": "dc9bb4bf-d14a-4246-93fe-9289a3f1f213"
      },
      "cell_type": "code",
      "source": [
        "pop = [30.55, 2.77, 39.21]\n",
        "countries = [\"afg\", \"alb\", \"algeria\"]\n",
        "world = {\"afg\":30.55, \"alb\": 2.77, \"algeria\": 39.21}\n",
        "world[\"sealand\"] = 0.000027\n",
        "del(world[\"sealand\"])\n",
        "world\n"
      ],
      "execution_count": 42,
      "outputs": [
        {
          "output_type": "execute_result",
          "data": {
            "text/plain": [
              "{'afg': 30.55, 'alb': 2.77, 'algeria': 39.21}"
            ]
          },
          "metadata": {
            "tags": []
          },
          "execution_count": 42
        }
      ]
    },
    {
      "metadata": {
        "id": "wfKmCbSo9_9r",
        "colab_type": "code",
        "colab": {}
      },
      "cell_type": "code",
      "source": [
        "briks = pd.read_csv(\"path/to.csv\", index_col = 0)"
      ],
      "execution_count": 0,
      "outputs": []
    },
    {
      "metadata": {
        "id": "ITD67RxTTc_0",
        "colab_type": "code",
        "colab": {
          "base_uri": "https://localhost:8080/",
          "height": 136
        },
        "outputId": "69383e00-cf30-42a7-ac37-612bd80d413c"
      },
      "cell_type": "code",
      "source": [
        "dict = {\"country\":[547,412,326], \"capital\":[100,500,235], \"pop\":[200,143,125]}\n",
        "import pandas as pd\n",
        "brics = pd.DataFrame(dict)\n",
        "brics.index = [\"BR\", \"RU\", \"IN\"]\n",
        "brics"
      ],
      "execution_count": 49,
      "outputs": [
        {
          "output_type": "execute_result",
          "data": {
            "text/html": [
              "<div>\n",
              "<style scoped>\n",
              "    .dataframe tbody tr th:only-of-type {\n",
              "        vertical-align: middle;\n",
              "    }\n",
              "\n",
              "    .dataframe tbody tr th {\n",
              "        vertical-align: top;\n",
              "    }\n",
              "\n",
              "    .dataframe thead th {\n",
              "        text-align: right;\n",
              "    }\n",
              "</style>\n",
              "<table border=\"1\" class=\"dataframe\">\n",
              "  <thead>\n",
              "    <tr style=\"text-align: right;\">\n",
              "      <th></th>\n",
              "      <th>capital</th>\n",
              "      <th>country</th>\n",
              "      <th>pop</th>\n",
              "    </tr>\n",
              "  </thead>\n",
              "  <tbody>\n",
              "    <tr>\n",
              "      <th>BR</th>\n",
              "      <td>100</td>\n",
              "      <td>547</td>\n",
              "      <td>200</td>\n",
              "    </tr>\n",
              "    <tr>\n",
              "      <th>RU</th>\n",
              "      <td>500</td>\n",
              "      <td>412</td>\n",
              "      <td>143</td>\n",
              "    </tr>\n",
              "    <tr>\n",
              "      <th>IN</th>\n",
              "      <td>235</td>\n",
              "      <td>326</td>\n",
              "      <td>125</td>\n",
              "    </tr>\n",
              "  </tbody>\n",
              "</table>\n",
              "</div>"
            ],
            "text/plain": [
              "    capital  country  pop\n",
              "BR      100      547  200\n",
              "RU      500      412  143\n",
              "IN      235      326  125"
            ]
          },
          "metadata": {
            "tags": []
          },
          "execution_count": 49
        }
      ]
    },
    {
      "metadata": {
        "id": "I2HivU_feR9d",
        "colab_type": "code",
        "colab": {
          "base_uri": "https://localhost:8080/",
          "height": 67
        },
        "outputId": "c21e9c3e-c782-4259-d60c-4e3c86cd816a"
      },
      "cell_type": "code",
      "source": [
        "np_vals = brics.values\n",
        "print(np_vals)"
      ],
      "execution_count": 50,
      "outputs": [
        {
          "output_type": "stream",
          "text": [
            "[[100 547 200]\n",
            " [500 412 143]\n",
            " [235 326 125]]\n"
          ],
          "name": "stdout"
        }
      ]
    },
    {
      "metadata": {
        "id": "mckYBv3aejc4",
        "colab_type": "code",
        "colab": {
          "base_uri": "https://localhost:8080/",
          "height": 67
        },
        "outputId": "a80c6b07-c7d9-471d-efa8-24ac98f37e8c"
      },
      "cell_type": "code",
      "source": [
        "np_vals_log10 = np.log10(np_vals)\n",
        "print(np_vals_log10)"
      ],
      "execution_count": 52,
      "outputs": [
        {
          "output_type": "stream",
          "text": [
            "[[2.         2.73798733 2.30103   ]\n",
            " [2.69897    2.61489722 2.15533604]\n",
            " [2.37106786 2.5132176  2.09691001]]\n"
          ],
          "name": "stdout"
        }
      ]
    },
    {
      "metadata": {
        "id": "-UbKsbNtfKnW",
        "colab_type": "code",
        "colab": {
          "base_uri": "https://localhost:8080/",
          "height": 67
        },
        "outputId": "1863e455-97ad-4dcc-c34d-28ea58b1d22f"
      },
      "cell_type": "code",
      "source": [
        "df_log10 = np.log10(brics.values)\n",
        "print(df_log10)"
      ],
      "execution_count": 53,
      "outputs": [
        {
          "output_type": "stream",
          "text": [
            "[[2.         2.73798733 2.30103   ]\n",
            " [2.69897    2.61489722 2.15533604]\n",
            " [2.37106786 2.5132176  2.09691001]]\n"
          ],
          "name": "stdout"
        }
      ]
    },
    {
      "metadata": {
        "id": "hxwm94F5fkYD",
        "colab_type": "code",
        "colab": {
          "base_uri": "https://localhost:8080/",
          "height": 34
        },
        "outputId": "5c3c2c4a-e615-46e5-a16b-3710f0e036de"
      },
      "cell_type": "code",
      "source": [
        "type(np_vals)"
      ],
      "execution_count": 55,
      "outputs": [
        {
          "output_type": "execute_result",
          "data": {
            "text/plain": [
              "numpy.ndarray"
            ]
          },
          "metadata": {
            "tags": []
          },
          "execution_count": 55
        }
      ]
    },
    {
      "metadata": {
        "id": "ZF6BGZoCUHGO",
        "colab_type": "code",
        "colab": {
          "base_uri": "https://localhost:8080/",
          "height": 106
        },
        "outputId": "0637045f-f5d6-4364-a9b2-edee86976bc3"
      },
      "cell_type": "code",
      "source": [
        "brics.loc[[\"BR\",\"RU\"], [\"country\",\"pop\"]]\n",
        "brics.iloc[[0,1],[1,2]]"
      ],
      "execution_count": 58,
      "outputs": [
        {
          "output_type": "execute_result",
          "data": {
            "text/html": [
              "<div>\n",
              "<style scoped>\n",
              "    .dataframe tbody tr th:only-of-type {\n",
              "        vertical-align: middle;\n",
              "    }\n",
              "\n",
              "    .dataframe tbody tr th {\n",
              "        vertical-align: top;\n",
              "    }\n",
              "\n",
              "    .dataframe thead th {\n",
              "        text-align: right;\n",
              "    }\n",
              "</style>\n",
              "<table border=\"1\" class=\"dataframe\">\n",
              "  <thead>\n",
              "    <tr style=\"text-align: right;\">\n",
              "      <th></th>\n",
              "      <th>country</th>\n",
              "      <th>pop</th>\n",
              "    </tr>\n",
              "  </thead>\n",
              "  <tbody>\n",
              "    <tr>\n",
              "      <th>BR</th>\n",
              "      <td>braz</td>\n",
              "      <td>200</td>\n",
              "    </tr>\n",
              "    <tr>\n",
              "      <th>RU</th>\n",
              "      <td>russ</td>\n",
              "      <td>143</td>\n",
              "    </tr>\n",
              "  </tbody>\n",
              "</table>\n",
              "</div>"
            ],
            "text/plain": [
              "   country  pop\n",
              "BR    braz  200\n",
              "RU    russ  143"
            ]
          },
          "metadata": {
            "tags": []
          },
          "execution_count": 58
        }
      ]
    },
    {
      "metadata": {
        "id": "F5mIEvrTV9-W",
        "colab_type": "code",
        "colab": {
          "base_uri": "https://localhost:8080/",
          "height": 77
        },
        "outputId": "8e739db5-d939-4da1-d079-241edbebed8f"
      },
      "cell_type": "code",
      "source": [
        "brics[np.logical_and(brics[\"pop\"] > 140,brics[\"pop\"] < 200)]"
      ],
      "execution_count": 68,
      "outputs": [
        {
          "output_type": "execute_result",
          "data": {
            "text/html": [
              "<div>\n",
              "<style scoped>\n",
              "    .dataframe tbody tr th:only-of-type {\n",
              "        vertical-align: middle;\n",
              "    }\n",
              "\n",
              "    .dataframe tbody tr th {\n",
              "        vertical-align: top;\n",
              "    }\n",
              "\n",
              "    .dataframe thead th {\n",
              "        text-align: right;\n",
              "    }\n",
              "</style>\n",
              "<table border=\"1\" class=\"dataframe\">\n",
              "  <thead>\n",
              "    <tr style=\"text-align: right;\">\n",
              "      <th></th>\n",
              "      <th>capital</th>\n",
              "      <th>country</th>\n",
              "      <th>pop</th>\n",
              "    </tr>\n",
              "  </thead>\n",
              "  <tbody>\n",
              "    <tr>\n",
              "      <th>RU</th>\n",
              "      <td>mos</td>\n",
              "      <td>russ</td>\n",
              "      <td>143</td>\n",
              "    </tr>\n",
              "  </tbody>\n",
              "</table>\n",
              "</div>"
            ],
            "text/plain": [
              "   capital country  pop\n",
              "RU     mos    russ  143"
            ]
          },
          "metadata": {
            "tags": []
          },
          "execution_count": 68
        }
      ]
    },
    {
      "metadata": {
        "id": "pqUIQqgVV_vU",
        "colab_type": "code",
        "outputId": "0054b16c-777c-4dfa-896a-5d377b3a8b1f",
        "colab": {
          "base_uri": "https://localhost:8080/",
          "height": 34
        }
      },
      "cell_type": "code",
      "source": [
        "z = 5\n",
        "if z % 2 == 0:\n",
        "  print(\"z is even\")\n",
        "else :\n",
        "  print(\"z is odd\")"
      ],
      "execution_count": 61,
      "outputs": [
        {
          "output_type": "stream",
          "text": [
            "z is odd\n"
          ],
          "name": "stdout"
        }
      ]
    },
    {
      "metadata": {
        "id": "yUWKtwKRWFoK",
        "colab_type": "code",
        "outputId": "dc2c7508-3532-484b-a6d4-1369c19f88a1",
        "colab": {
          "base_uri": "https://localhost:8080/",
          "height": 67
        }
      },
      "cell_type": "code",
      "source": [
        "error = 50\n",
        "while error > 1: \n",
        "  error = error / 4\n",
        "  print(error)"
      ],
      "execution_count": 2,
      "outputs": [
        {
          "output_type": "stream",
          "text": [
            "12.5\n",
            "3.125\n",
            "0.78125\n"
          ],
          "name": "stdout"
        }
      ]
    },
    {
      "metadata": {
        "id": "SR8USWfJ5iWx",
        "colab_type": "code",
        "colab": {
          "base_uri": "https://localhost:8080/",
          "height": 101
        },
        "outputId": "20ed4aeb-eaf1-4642-aaab-6c494c9b40c5"
      },
      "cell_type": "code",
      "source": [
        "fam = [1.73, 1.68, 1.71, 1.89, 1.79]\n",
        "\n",
        "for index, height in enumerate(fam): \n",
        "  print(\"index\" + str(index) + \":\" + str(height))"
      ],
      "execution_count": 4,
      "outputs": [
        {
          "output_type": "stream",
          "text": [
            "index0:1.73\n",
            "index1:1.68\n",
            "index2:1.71\n",
            "index3:1.89\n",
            "index4:1.79\n"
          ],
          "name": "stdout"
        }
      ]
    },
    {
      "metadata": {
        "id": "u817jTg35iZt",
        "colab_type": "code",
        "colab": {
          "base_uri": "https://localhost:8080/",
          "height": 67
        },
        "outputId": "4f60f6ff-501c-4589-8ad4-f00cbfb55a65"
      },
      "cell_type": "code",
      "source": [
        "world = {\"afg\":30.55, \"alb\": 2.77, \"algeria\": 39.21}\n",
        "for key, value in world.items(): \n",
        "  print(key + \"--\" + str(value))"
      ],
      "execution_count": 7,
      "outputs": [
        {
          "output_type": "stream",
          "text": [
            "afg--30.55\n",
            "alb--2.77\n",
            "algeria--39.21\n"
          ],
          "name": "stdout"
        }
      ]
    },
    {
      "metadata": {
        "id": "NN6sPl6t5icf",
        "colab_type": "code",
        "colab": {
          "base_uri": "https://localhost:8080/",
          "height": 185
        },
        "outputId": "9f072ed2-d9db-4fdd-c7a0-8adebc9419db"
      },
      "cell_type": "code",
      "source": [
        "import numpy as np\n",
        "np_height = np.array([[1.73, 1.68, 1.71, 1.89, 1.79], [56.2, 45.3, 65.8, 78.5, 45.9]])\n",
        "for val in np.nditer(np_height) :\n",
        "  print(val)"
      ],
      "execution_count": 9,
      "outputs": [
        {
          "output_type": "stream",
          "text": [
            "1.73\n",
            "1.68\n",
            "1.71\n",
            "1.89\n",
            "1.79\n",
            "56.2\n",
            "45.3\n",
            "65.8\n",
            "78.5\n",
            "45.9\n"
          ],
          "name": "stdout"
        }
      ]
    },
    {
      "metadata": {
        "id": "0Y8X9yik5igD",
        "colab_type": "code",
        "colab": {
          "base_uri": "https://localhost:8080/",
          "height": 202
        },
        "outputId": "81cff86f-7462-406d-e710-3f970b51c6fe"
      },
      "cell_type": "code",
      "source": [
        "dict = {\"country\":[\"braz\", \"russ\", \"india\"], \"capital\":[\"bra\", \"mos\", \"new\"], \"pop\":[200,143,125]}\n",
        "import pandas as pd\n",
        "brics = pd.DataFrame(dict)\n",
        "for lab, row in brics.iterrows() :\n",
        "  print(str(lab) + \":\" + row[\"capital\"])\n",
        "\n",
        "for lab, row in brics.iterrows() :\n",
        "  brics.loc[lab, \"name_length\"] = len(row[\"country\"])\n",
        "print(brics)\n",
        "\n",
        "brics[\"name_length\"] = brics[\"country\"].apply(len)\n",
        "print(brics)"
      ],
      "execution_count": 21,
      "outputs": [
        {
          "output_type": "stream",
          "text": [
            "0:bra\n",
            "1:mos\n",
            "2:new\n",
            "  capital country  pop  name_length\n",
            "0     bra    braz  200          4.0\n",
            "1     mos    russ  143          4.0\n",
            "2     new   india  125          5.0\n",
            "  capital country  pop  name_length\n",
            "0     bra    braz  200            4\n",
            "1     mos    russ  143            4\n",
            "2     new   india  125            5\n"
          ],
          "name": "stdout"
        }
      ]
    },
    {
      "metadata": {
        "id": "FKB8mS2s5ij6",
        "colab_type": "code",
        "colab": {
          "base_uri": "https://localhost:8080/",
          "height": 136
        },
        "outputId": "299271bf-21d1-45ae-f379-d8166d9ef887"
      },
      "cell_type": "code",
      "source": [
        "brics"
      ],
      "execution_count": 12,
      "outputs": [
        {
          "output_type": "execute_result",
          "data": {
            "text/html": [
              "<div>\n",
              "<style scoped>\n",
              "    .dataframe tbody tr th:only-of-type {\n",
              "        vertical-align: middle;\n",
              "    }\n",
              "\n",
              "    .dataframe tbody tr th {\n",
              "        vertical-align: top;\n",
              "    }\n",
              "\n",
              "    .dataframe thead th {\n",
              "        text-align: right;\n",
              "    }\n",
              "</style>\n",
              "<table border=\"1\" class=\"dataframe\">\n",
              "  <thead>\n",
              "    <tr style=\"text-align: right;\">\n",
              "      <th></th>\n",
              "      <th>capital</th>\n",
              "      <th>country</th>\n",
              "      <th>pop</th>\n",
              "    </tr>\n",
              "  </thead>\n",
              "  <tbody>\n",
              "    <tr>\n",
              "      <th>0</th>\n",
              "      <td>bra</td>\n",
              "      <td>braz</td>\n",
              "      <td>200</td>\n",
              "    </tr>\n",
              "    <tr>\n",
              "      <th>1</th>\n",
              "      <td>mos</td>\n",
              "      <td>russ</td>\n",
              "      <td>143</td>\n",
              "    </tr>\n",
              "    <tr>\n",
              "      <th>2</th>\n",
              "      <td>new</td>\n",
              "      <td>india</td>\n",
              "      <td>125</td>\n",
              "    </tr>\n",
              "  </tbody>\n",
              "</table>\n",
              "</div>"
            ],
            "text/plain": [
              "  capital country  pop\n",
              "0     bra    braz  200\n",
              "1     mos    russ  143\n",
              "2     new   india  125"
            ]
          },
          "metadata": {
            "tags": []
          },
          "execution_count": 12
        }
      ]
    },
    {
      "metadata": {
        "id": "z4GtIt7o8eTe",
        "colab_type": "code",
        "colab": {
          "base_uri": "https://localhost:8080/",
          "height": 364
        },
        "outputId": "b14293ab-cec4-433a-8a4a-8aa1407ed171"
      },
      "cell_type": "code",
      "source": [
        "import numpy as np\n",
        "import matplotlib.pyplot as plt\n",
        "np.random.seed(123)\n",
        "all_walks = []\n",
        "for i in range(500) :\n",
        "  random_walk = [0]\n",
        "  for x in range(100) :\n",
        "    step = random_walk[-1]\n",
        "    dice = np.random.randint(1,7)\n",
        "    if dice <= 2:\n",
        "      step = max(0,step - 1)\n",
        "    elif dice < 6 :\n",
        "      step = step + 1\n",
        "    else :\n",
        "      step = step + np.random.randint(1,7)  \n",
        "    if np.random.rand() <= 0.001 :\n",
        "            step = 0\n",
        "    random_walk.append(step)\n",
        "  all_walks.append(random_walk)\n",
        "np_aw = np.array(all_walks)\n",
        "np_aw_t = np.transpose(np_aw)\n",
        "ends = np_aw_t[-1]\n",
        "plt.hist(ends)\n",
        "plt.show()\n",
        "print(np.mean(ends>=60))"
      ],
      "execution_count": 44,
      "outputs": [
        {
          "output_type": "display_data",
          "data": {
            "image/png": "[encoded data removed]",
            "text/plain": [
              "<matplotlib.figure.Figure at 0x7fde7d8e10f0>"
            ]
          },
          "metadata": {
            "tags": []
          }
        },
        {
          "output_type": "stream",
          "text": [
            "0.784\n"
          ],
          "name": "stdout"
        }
      ]
    },
    {
      "metadata": {
        "id": "Bd96Kt058eYv",
        "colab_type": "code",
        "colab": {
          "base_uri": "https://localhost:8080/",
          "height": 34
        },
        "outputId": "181568c0-00ff-405d-be79-f80991e0cdf5"
      },
      "cell_type": "code",
      "source": [
        "tails = [0]\n",
        "for x in range (10):\n",
        "  coin = np.random.randint(0,2)\n",
        "  tails.append(tails[x] + coin)\n",
        "print(tails)"
      ],
      "execution_count": 30,
      "outputs": [
        {
          "output_type": "stream",
          "text": [
            "[0, 1, 1, 1, 2, 3, 3, 4, 5, 6, 6]\n"
          ],
          "name": "stdout"
        }
      ]
    },
    {
      "metadata": {
        "id": "KR8qLN6P8ecG",
        "colab_type": "code",
        "colab": {
          "base_uri": "https://localhost:8080/",
          "height": 134
        },
        "outputId": "cc5ba9ee-f620-49fa-9688-8fcbfbcb66d3"
      },
      "cell_type": "code",
      "source": [
        "print(np_aw_t)\n"
      ],
      "execution_count": 41,
      "outputs": [
        {
          "output_type": "stream",
          "text": [
            "[[ 0  0  0 ...  0  0  0]\n",
            " [ 3  4  2 ...  0  1  1]\n",
            " [ 4  3  1 ...  1  0  2]\n",
            " ...\n",
            " [58 70 85 ... 74 60 85]\n",
            " [59 71 84 ... 75 61 86]\n",
            " [60 73 83 ... 76 60 87]]\n"
          ],
          "name": "stdout"
        }
      ]
    },
    {
      "metadata": {
        "id": "ebfaK5Pl5im9",
        "colab_type": "code",
        "colab": {}
      },
      "cell_type": "code",
      "source": [
        ""
      ],
      "execution_count": 0,
      "outputs": []
    }
  ]
}