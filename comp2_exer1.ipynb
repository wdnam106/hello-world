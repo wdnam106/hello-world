{
  "nbformat": 4,
  "nbformat_minor": 0,
  "metadata": {
    "colab": {
      "name": "comp2_exer1",
      "version": "0.3.2",
      "provenance": [],
      "collapsed_sections": [],
      "include_colab_link": true
    },
    "kernelspec": {
      "name": "python3",
      "display_name": "Python 3"
    },
    "accelerator": "GPU"
  },
  "cells": [
    {
      "cell_type": "markdown",
      "metadata": {
        "id": "view-in-github",
        "colab_type": "text"
      },
      "source": [
        "<a href=\"https://colab.research.google.com/github/wdnam106/hello-world/blob/master/comp2_exer1.ipynb\" target=\"_parent\"><img src=\"https://colab.research.google.com/assets/colab-badge.svg\" alt=\"Open In Colab\"/></a>"
      ]
    },
    {
      "metadata": {
        "id": "_NadlW-cQFgj",
        "colab_type": "code",
        "colab": {}
      },
      "cell_type": "code",
      "source": [
        "from __future__ import print_function\n",
        "import math\n",
        "from IPython import display\n",
        "from matplotlib import cm\n",
        "from matplotlib import gridspec\n",
        "from matplotlib import pyplot as plt\n",
        "import numpy as np\n",
        "import pandas as pd\n",
        "from sklearn import metrics\n",
        "import tensorflow as tf\n",
        "from tensorflow.python.data import Dataset\n"
      ],
      "execution_count": 0,
      "outputs": []
    },
    {
      "metadata": {
        "id": "fNoAwGFAUBmD",
        "colab_type": "code",
        "outputId": "b3805a13-cf40-4065-9131-753a3ad34228",
        "colab": {
          "base_uri": "https://localhost:8080/",
          "height": 34
        }
      },
      "cell_type": "code",
      "source": [
        "import os\n",
        "print(os.listdir(\"../content\"))"
      ],
      "execution_count": 0,
      "outputs": [
        {
          "output_type": "stream",
          "text": [
            "['sample_data', '.config', 'adc.json', '.kaggle']\n"
          ],
          "name": "stdout"
        }
      ]
    },
    {
      "metadata": {
        "id": "gl06V1-AddS_",
        "colab_type": "code",
        "colab": {}
      },
      "cell_type": "code",
      "source": [
        "KAGGLE_DIR = '../content/'\n",
        "tr_train = pd.read_csv(KAGGLE_DIR + 'train_V2.csv')\n",
        "tr_test = pd.read_csv(KAGGLE_DIR + 'test_V2.csv')"
      ],
      "execution_count": 0,
      "outputs": []
    },
    {
      "metadata": {
        "id": "MBzdAk_qWwjK",
        "colab_type": "code",
        "colab": {}
      },
      "cell_type": "code",
      "source": [
        "# Memory saving function credit to https://www.kaggle.com/gemartin/load-data-reduce-memory-usage\n",
        "def reduce_mem_usage(df):\n",
        "    \"\"\" iterate through all the columns of a dataframe and modify the data type\n",
        "        to reduce memory usage.        \n",
        "    \"\"\"\n",
        "    start_mem = df.memory_usage().sum() / 1024**2\n",
        "    print('Memory usage of dataframe is {:.2f} MB'.format(start_mem))\n",
        "\n",
        "    for col in df.columns:\n",
        "        col_type = df[col].dtype\n",
        "\n",
        "        if col_type != object:\n",
        "            c_min = df[col].min()\n",
        "            c_max = df[col].max()\n",
        "            if str(col_type)[:3] == 'int':\n",
        "                if c_min > np.iinfo(np.int8).min and c_max < np.iinfo(np.int8).max:\n",
        "                    df[col] = df[col].astype(np.int8)\n",
        "                elif c_min > np.iinfo(np.int16).min and c_max < np.iinfo(np.int16).max:\n",
        "                    df[col] = df[col].astype(np.int16)\n",
        "                elif c_min > np.iinfo(np.int32).min and c_max < np.iinfo(np.int32).max:\n",
        "                    df[col] = df[col].astype(np.int32)\n",
        "                elif c_min > np.iinfo(np.int64).min and c_max < np.iinfo(np.int64).max:\n",
        "                    df[col] = df[col].astype(np.int64)  \n",
        "            else:\n",
        "                if c_min > np.finfo(np.float16).min and c_max < np.finfo(np.float16).max:\n",
        "                    df[col] = df[col].astype(np.float16)\n",
        "                elif c_min > np.finfo(np.float32).min and c_max < np.finfo(np.float32).max:\n",
        "                    df[col] = df[col].astype(np.float32)\n",
        "                else:\n",
        "                    df[col] = df[col].astype(np.float64)\n",
        "\n",
        "    end_mem = df.memory_usage().sum() / 1024**2\n",
        "    print('Memory usage after optimization is: {:.2f} MB'.format(end_mem))\n",
        "    print('Decreased by {:.1f}%'.format(100 * (start_mem - end_mem) / start_mem))\n",
        "\n",
        "    return df"
      ],
      "execution_count": 0,
      "outputs": []
    },
    {
      "metadata": {
        "id": "UGKLwOeCWyWN",
        "colab_type": "code",
        "outputId": "14c1e511-fbe9-4830-95f4-c1cbcfe0919f",
        "colab": {
          "base_uri": "https://localhost:8080/",
          "height": 67
        }
      },
      "cell_type": "code",
      "source": [
        "tr_train = reduce_mem_usage(tr_train)\n"
      ],
      "execution_count": 0,
      "outputs": [
        {
          "output_type": "stream",
          "text": [
            "Memory usage of dataframe is 983.90 MB\n",
            "Memory usage after optimization is: 288.39 MB\n",
            "Decreased by 70.7%\n"
          ],
          "name": "stdout"
        }
      ]
    },
    {
      "metadata": {
        "id": "MGl7ORha4JWg",
        "colab_type": "code",
        "outputId": "6f203ab9-c880-4754-ebf1-07b3879fd65e",
        "colab": {
          "base_uri": "https://localhost:8080/",
          "height": 67
        }
      },
      "cell_type": "code",
      "source": [
        "tr_test = reduce_mem_usage(tr_test)"
      ],
      "execution_count": 0,
      "outputs": [
        {
          "output_type": "stream",
          "text": [
            "Memory usage of dataframe is 413.18 MB\n",
            "Memory usage after optimization is: 121.74 MB\n",
            "Decreased by 70.5%\n"
          ],
          "name": "stdout"
        }
      ]
    },
    {
      "metadata": {
        "id": "scqudOt1mohh",
        "colab_type": "code",
        "colab": {}
      },
      "cell_type": "code",
      "source": [
        ""
      ],
      "execution_count": 0,
      "outputs": []
    },
    {
      "metadata": {
        "id": "UwHomlVV9-oh",
        "colab_type": "code",
        "colab": {}
      },
      "cell_type": "code",
      "source": [
        "tr_train = tr_train.dropna()\n",
        "tr_train_sample = tr_train.sample(n=100000, random_state = 76)\n",
        "tr_test_sample = tr_test.sample(n=100000, random_state = 76)\n",
        "XX = tr_train.drop(['Id', 'groupId', 'matchId','matchType', 'winPlacePerc'], axis = 1)\n",
        "YY = tr_train['winPlacePerc']\n",
        "XX_test = tr_test.drop(['Id', 'groupId', 'matchId','matchType'], axis = 1)\n",
        "\n",
        "\n"
      ],
      "execution_count": 0,
      "outputs": []
    },
    {
      "metadata": {
        "id": "9QlrlPzWQBUe",
        "colab_type": "code",
        "colab": {}
      },
      "cell_type": "code",
      "source": [
        "from sklearn.preprocessing import scale\n",
        "X_scaled = scale(XX)\n",
        "X_test_scaled = scale(XX_test)"
      ],
      "execution_count": 0,
      "outputs": []
    },
    {
      "metadata": {
        "id": "QwCnAIdAt6IH",
        "colab_type": "code",
        "outputId": "c2ab2cd7-bf55-4c13-a2e5-6dffa0d30330",
        "colab": {
          "base_uri": "https://localhost:8080/",
          "height": 235
        }
      },
      "cell_type": "code",
      "source": [
        "X_test_scaled"
      ],
      "execution_count": 0,
      "outputs": [
        {
          "output_type": "execute_result",
          "data": {
            "text/plain": [
              "array([[-0.39577455, -0.64590302, -0.77064988, ..., -0.9687839 ,\n",
              "        -1.52848162, -0.82541064],\n",
              "       [-0.39577455,  0.52090308,  0.12356248, ..., -0.05864563,\n",
              "         1.42903308, -0.82541064],\n",
              "       [-0.39577455, -0.64590302, -0.77064988, ..., -0.91974264,\n",
              "        -1.52848162, -0.82541064],\n",
              "       ...,\n",
              "       [-0.39577455, -0.64590302, -0.5222163 , ..., -0.82726408,\n",
              "        -0.26097532,  1.15569202],\n",
              "       [-0.39577455,  1.10430614, -0.62368786, ..., -0.84628035,\n",
              "        -0.68347742,  1.19620537],\n",
              "       [-0.39577455, -0.64590302,  0.41767219, ..., -0.92396553,\n",
              "        -0.68347742, -0.82541064]])"
            ]
          },
          "metadata": {
            "tags": []
          },
          "execution_count": 23
        }
      ]
    },
    {
      "metadata": {
        "id": "QidtHOs80AFo",
        "colab_type": "code",
        "colab": {}
      },
      "cell_type": "code",
      "source": [
        "tr_train.head()"
      ],
      "execution_count": 0,
      "outputs": []
    },
    {
      "metadata": {
        "id": "74kTrevyEV-3",
        "colab_type": "code",
        "outputId": "9d5e6b67-7f79-4634-edf6-b15349bc6ccb",
        "colab": {
          "base_uri": "https://localhost:8080/",
          "height": 218
        }
      },
      "cell_type": "code",
      "source": [
        "import numpy as np\n",
        "from keras.layers import Dense\n",
        "from keras.models import Sequential\n",
        "from keras.utils import to_categorical\n",
        "from keras.callbacks import EarlyStopping\n",
        "\n",
        "n_cols = X_scaled.shape[1]\n",
        "early_stopping_monitor = EarlyStopping(patience=2)\n",
        "model = Sequential()\n",
        "model.add(Dense(100, activation = 'relu', input_shape = (n_cols,)))\n",
        "model.add(Dense(100, activation = 'relu'))\n",
        "model.add(Dense(100, activation = 'relu'))\n",
        "model.add(Dense(1))\n",
        "model.compile(optimizer='adam', loss='mean_absolute_error', metrics=['accuracy'])\n",
        "model.fit(X_scaled, YY, validation_split = 0.3, epochs = 5, callbacks = [early_stopping_monitor])\n"
      ],
      "execution_count": 0,
      "outputs": [
        {
          "output_type": "stream",
          "text": [
            "Train on 3112875 samples, validate on 1334090 samples\n",
            "Epoch 1/5\n",
            "3112875/3112875 [==============================] - 629s 202us/step - loss: 0.0627 - acc: 0.0777 - val_loss: 0.0614 - val_acc: 0.0778\n",
            "Epoch 2/5\n",
            "3112875/3112875 [==============================] - 629s 202us/step - loss: 0.0595 - acc: 0.0778 - val_loss: 0.0589 - val_acc: 0.0778\n",
            "Epoch 3/5\n",
            "3112875/3112875 [==============================] - 630s 202us/step - loss: 0.0590 - acc: 0.0778 - val_loss: 0.0589 - val_acc: 0.0778\n",
            "Epoch 4/5\n",
            "3112875/3112875 [==============================] - 633s 203us/step - loss: 0.0587 - acc: 0.0778 - val_loss: 0.0584 - val_acc: 0.0778\n",
            "Epoch 5/5\n",
            "3112875/3112875 [==============================] - 630s 202us/step - loss: 0.0586 - acc: 0.0778 - val_loss: 0.0584 - val_acc: 0.0779\n"
          ],
          "name": "stdout"
        },
        {
          "output_type": "execute_result",
          "data": {
            "text/plain": [
              "<keras.callbacks.History at 0x7f2ac02b5240>"
            ]
          },
          "metadata": {
            "tags": []
          },
          "execution_count": 61
        }
      ]
    },
    {
      "metadata": {
        "id": "9KgyROu3G4Dv",
        "colab_type": "code",
        "outputId": "f229c659-078e-4978-fe5e-f5e5f330eb08",
        "colab": {
          "base_uri": "https://localhost:8080/",
          "height": 134
        }
      },
      "cell_type": "code",
      "source": [
        "y_predict = model.predict(X_test_scaled).reshape(-1,1)\n",
        "y_predict"
      ],
      "execution_count": 0,
      "outputs": [
        {
          "output_type": "execute_result",
          "data": {
            "text/plain": [
              "array([[0.23207273],\n",
              "       [0.9174408 ],\n",
              "       [0.7028392 ],\n",
              "       ...,\n",
              "       [0.8978723 ],\n",
              "       [0.8239708 ],\n",
              "       [0.04465848]], dtype=float32)"
            ]
          },
          "metadata": {
            "tags": []
          },
          "execution_count": 62
        }
      ]
    },
    {
      "metadata": {
        "id": "Kt8Tk0ZNOFEj",
        "colab_type": "code",
        "outputId": "d97947d0-3eca-4bf3-83de-fcf985ddd1e5",
        "colab": {
          "base_uri": "https://localhost:8080/",
          "height": 1911
        }
      },
      "cell_type": "code",
      "source": [
        "predictions = pd.DataFrame(y_predict, index=tr_test[\"Id\"]).rename(columns={0:'winPlacePerc'})\n",
        "predictions.head(100)\n"
      ],
      "execution_count": 0,
      "outputs": [
        {
          "output_type": "execute_result",
          "data": {
            "text/html": [
              "<div>\n",
              "<style scoped>\n",
              "    .dataframe tbody tr th:only-of-type {\n",
              "        vertical-align: middle;\n",
              "    }\n",
              "\n",
              "    .dataframe tbody tr th {\n",
              "        vertical-align: top;\n",
              "    }\n",
              "\n",
              "    .dataframe thead th {\n",
              "        text-align: right;\n",
              "    }\n",
              "</style>\n",
              "<table border=\"1\" class=\"dataframe\">\n",
              "  <thead>\n",
              "    <tr style=\"text-align: right;\">\n",
              "      <th></th>\n",
              "      <th>winPlacePerc</th>\n",
              "    </tr>\n",
              "    <tr>\n",
              "      <th>Id</th>\n",
              "      <th></th>\n",
              "    </tr>\n",
              "  </thead>\n",
              "  <tbody>\n",
              "    <tr>\n",
              "      <th>9329eb41e215eb</th>\n",
              "      <td>0.232073</td>\n",
              "    </tr>\n",
              "    <tr>\n",
              "      <th>639bd0dcd7bda8</th>\n",
              "      <td>0.917441</td>\n",
              "    </tr>\n",
              "    <tr>\n",
              "      <th>63d5c8ef8dfe91</th>\n",
              "      <td>0.702839</td>\n",
              "    </tr>\n",
              "    <tr>\n",
              "      <th>cf5b81422591d1</th>\n",
              "      <td>0.511094</td>\n",
              "    </tr>\n",
              "    <tr>\n",
              "      <th>ee6a295187ba21</th>\n",
              "      <td>0.913735</td>\n",
              "    </tr>\n",
              "    <tr>\n",
              "      <th>3e2539b5d78183</th>\n",
              "      <td>0.014227</td>\n",
              "    </tr>\n",
              "    <tr>\n",
              "      <th>d812d2f1d88a02</th>\n",
              "      <td>0.708746</td>\n",
              "    </tr>\n",
              "    <tr>\n",
              "      <th>a8a377e4d43bf8</th>\n",
              "      <td>0.259091</td>\n",
              "    </tr>\n",
              "    <tr>\n",
              "      <th>f18301e30d47d3</th>\n",
              "      <td>0.536703</td>\n",
              "    </tr>\n",
              "    <tr>\n",
              "      <th>ec7b965ef978b3</th>\n",
              "      <td>0.620116</td>\n",
              "    </tr>\n",
              "    <tr>\n",
              "      <th>29da9623f0e316</th>\n",
              "      <td>0.291802</td>\n",
              "    </tr>\n",
              "    <tr>\n",
              "      <th>9a7777f1868aba</th>\n",
              "      <td>0.283663</td>\n",
              "    </tr>\n",
              "    <tr>\n",
              "      <th>aeded11e3d6daa</th>\n",
              "      <td>0.940577</td>\n",
              "    </tr>\n",
              "    <tr>\n",
              "      <th>2f42b452cf99f7</th>\n",
              "      <td>0.768369</td>\n",
              "    </tr>\n",
              "    <tr>\n",
              "      <th>8ee93e13e67ae9</th>\n",
              "      <td>0.392661</td>\n",
              "    </tr>\n",
              "    <tr>\n",
              "      <th>8e3d9efdb90cdc</th>\n",
              "      <td>0.684128</td>\n",
              "    </tr>\n",
              "    <tr>\n",
              "      <th>8b20f5b3995b98</th>\n",
              "      <td>0.353915</td>\n",
              "    </tr>\n",
              "    <tr>\n",
              "      <th>bdc658de5cc405</th>\n",
              "      <td>0.139218</td>\n",
              "    </tr>\n",
              "    <tr>\n",
              "      <th>d9463ae2916efb</th>\n",
              "      <td>0.202305</td>\n",
              "    </tr>\n",
              "    <tr>\n",
              "      <th>60051fc7ae4b95</th>\n",
              "      <td>0.273606</td>\n",
              "    </tr>\n",
              "    <tr>\n",
              "      <th>8a706bc525a3cb</th>\n",
              "      <td>0.823029</td>\n",
              "    </tr>\n",
              "    <tr>\n",
              "      <th>37ae98f31ca542</th>\n",
              "      <td>0.646569</td>\n",
              "    </tr>\n",
              "    <tr>\n",
              "      <th>c079e5a4fe3f99</th>\n",
              "      <td>0.382848</td>\n",
              "    </tr>\n",
              "    <tr>\n",
              "      <th>2baff8414fa43b</th>\n",
              "      <td>0.243751</td>\n",
              "    </tr>\n",
              "    <tr>\n",
              "      <th>6b4d4dda1759ba</th>\n",
              "      <td>0.905748</td>\n",
              "    </tr>\n",
              "    <tr>\n",
              "      <th>55b6cdc2e0c8c5</th>\n",
              "      <td>-0.003515</td>\n",
              "    </tr>\n",
              "    <tr>\n",
              "      <th>ff5e84a850fe69</th>\n",
              "      <td>0.626204</td>\n",
              "    </tr>\n",
              "    <tr>\n",
              "      <th>3465bb382be8b5</th>\n",
              "      <td>0.044400</td>\n",
              "    </tr>\n",
              "    <tr>\n",
              "      <th>e3fd035717a771</th>\n",
              "      <td>0.385879</td>\n",
              "    </tr>\n",
              "    <tr>\n",
              "      <th>6425cf14b2d488</th>\n",
              "      <td>0.359041</td>\n",
              "    </tr>\n",
              "    <tr>\n",
              "      <th>...</th>\n",
              "      <td>...</td>\n",
              "    </tr>\n",
              "    <tr>\n",
              "      <th>b8a83f3655e34d</th>\n",
              "      <td>0.158991</td>\n",
              "    </tr>\n",
              "    <tr>\n",
              "      <th>b85a004e411726</th>\n",
              "      <td>0.205719</td>\n",
              "    </tr>\n",
              "    <tr>\n",
              "      <th>1de0a21838cfe3</th>\n",
              "      <td>0.722347</td>\n",
              "    </tr>\n",
              "    <tr>\n",
              "      <th>3d07ab0cdafaad</th>\n",
              "      <td>0.169846</td>\n",
              "    </tr>\n",
              "    <tr>\n",
              "      <th>eba2e23cc169cf</th>\n",
              "      <td>0.925728</td>\n",
              "    </tr>\n",
              "    <tr>\n",
              "      <th>f734119500d67c</th>\n",
              "      <td>0.241979</td>\n",
              "    </tr>\n",
              "    <tr>\n",
              "      <th>9c948fa671bed2</th>\n",
              "      <td>0.232740</td>\n",
              "    </tr>\n",
              "    <tr>\n",
              "      <th>41a7f5cc293bf0</th>\n",
              "      <td>0.971196</td>\n",
              "    </tr>\n",
              "    <tr>\n",
              "      <th>c00b87bad167b2</th>\n",
              "      <td>0.166707</td>\n",
              "    </tr>\n",
              "    <tr>\n",
              "      <th>999e1d11efc8d4</th>\n",
              "      <td>0.220759</td>\n",
              "    </tr>\n",
              "    <tr>\n",
              "      <th>109659fc9d360b</th>\n",
              "      <td>0.031495</td>\n",
              "    </tr>\n",
              "    <tr>\n",
              "      <th>cda6b28fc540c8</th>\n",
              "      <td>0.764570</td>\n",
              "    </tr>\n",
              "    <tr>\n",
              "      <th>647cade6e4ed15</th>\n",
              "      <td>0.111523</td>\n",
              "    </tr>\n",
              "    <tr>\n",
              "      <th>f5bb9dc4ff6961</th>\n",
              "      <td>-0.000701</td>\n",
              "    </tr>\n",
              "    <tr>\n",
              "      <th>75446f0d95cba3</th>\n",
              "      <td>0.543297</td>\n",
              "    </tr>\n",
              "    <tr>\n",
              "      <th>be051300b44daf</th>\n",
              "      <td>0.014201</td>\n",
              "    </tr>\n",
              "    <tr>\n",
              "      <th>a3d24061c83e62</th>\n",
              "      <td>0.852849</td>\n",
              "    </tr>\n",
              "    <tr>\n",
              "      <th>c4c830f871761f</th>\n",
              "      <td>0.005296</td>\n",
              "    </tr>\n",
              "    <tr>\n",
              "      <th>e741ff91dab060</th>\n",
              "      <td>0.413548</td>\n",
              "    </tr>\n",
              "    <tr>\n",
              "      <th>2e0e2578b43381</th>\n",
              "      <td>0.835259</td>\n",
              "    </tr>\n",
              "    <tr>\n",
              "      <th>b912e5782b1e48</th>\n",
              "      <td>0.281165</td>\n",
              "    </tr>\n",
              "    <tr>\n",
              "      <th>39ec4d1e8ba0f4</th>\n",
              "      <td>0.053761</td>\n",
              "    </tr>\n",
              "    <tr>\n",
              "      <th>fd6ca11ac87c9c</th>\n",
              "      <td>0.517828</td>\n",
              "    </tr>\n",
              "    <tr>\n",
              "      <th>b0e4999b11d4d8</th>\n",
              "      <td>0.108806</td>\n",
              "    </tr>\n",
              "    <tr>\n",
              "      <th>3d80c196dc0a67</th>\n",
              "      <td>0.645750</td>\n",
              "    </tr>\n",
              "    <tr>\n",
              "      <th>16c00bc426294f</th>\n",
              "      <td>-0.004051</td>\n",
              "    </tr>\n",
              "    <tr>\n",
              "      <th>52a70ecac30104</th>\n",
              "      <td>0.470153</td>\n",
              "    </tr>\n",
              "    <tr>\n",
              "      <th>adb4712b7e517d</th>\n",
              "      <td>0.059224</td>\n",
              "    </tr>\n",
              "    <tr>\n",
              "      <th>1da7c8e928d53a</th>\n",
              "      <td>0.830152</td>\n",
              "    </tr>\n",
              "    <tr>\n",
              "      <th>b11a6157ccb34e</th>\n",
              "      <td>0.008732</td>\n",
              "    </tr>\n",
              "  </tbody>\n",
              "</table>\n",
              "<p>100 rows × 1 columns</p>\n",
              "</div>"
            ],
            "text/plain": [
              "                winPlacePerc\n",
              "Id                          \n",
              "9329eb41e215eb      0.232073\n",
              "639bd0dcd7bda8      0.917441\n",
              "63d5c8ef8dfe91      0.702839\n",
              "cf5b81422591d1      0.511094\n",
              "ee6a295187ba21      0.913735\n",
              "3e2539b5d78183      0.014227\n",
              "d812d2f1d88a02      0.708746\n",
              "a8a377e4d43bf8      0.259091\n",
              "f18301e30d47d3      0.536703\n",
              "ec7b965ef978b3      0.620116\n",
              "29da9623f0e316      0.291802\n",
              "9a7777f1868aba      0.283663\n",
              "aeded11e3d6daa      0.940577\n",
              "2f42b452cf99f7      0.768369\n",
              "8ee93e13e67ae9      0.392661\n",
              "8e3d9efdb90cdc      0.684128\n",
              "8b20f5b3995b98      0.353915\n",
              "bdc658de5cc405      0.139218\n",
              "d9463ae2916efb      0.202305\n",
              "60051fc7ae4b95      0.273606\n",
              "8a706bc525a3cb      0.823029\n",
              "37ae98f31ca542      0.646569\n",
              "c079e5a4fe3f99      0.382848\n",
              "2baff8414fa43b      0.243751\n",
              "6b4d4dda1759ba      0.905748\n",
              "55b6cdc2e0c8c5     -0.003515\n",
              "ff5e84a850fe69      0.626204\n",
              "3465bb382be8b5      0.044400\n",
              "e3fd035717a771      0.385879\n",
              "6425cf14b2d488      0.359041\n",
              "...                      ...\n",
              "b8a83f3655e34d      0.158991\n",
              "b85a004e411726      0.205719\n",
              "1de0a21838cfe3      0.722347\n",
              "3d07ab0cdafaad      0.169846\n",
              "eba2e23cc169cf      0.925728\n",
              "f734119500d67c      0.241979\n",
              "9c948fa671bed2      0.232740\n",
              "41a7f5cc293bf0      0.971196\n",
              "c00b87bad167b2      0.166707\n",
              "999e1d11efc8d4      0.220759\n",
              "109659fc9d360b      0.031495\n",
              "cda6b28fc540c8      0.764570\n",
              "647cade6e4ed15      0.111523\n",
              "f5bb9dc4ff6961     -0.000701\n",
              "75446f0d95cba3      0.543297\n",
              "be051300b44daf      0.014201\n",
              "a3d24061c83e62      0.852849\n",
              "c4c830f871761f      0.005296\n",
              "e741ff91dab060      0.413548\n",
              "2e0e2578b43381      0.835259\n",
              "b912e5782b1e48      0.281165\n",
              "39ec4d1e8ba0f4      0.053761\n",
              "fd6ca11ac87c9c      0.517828\n",
              "b0e4999b11d4d8      0.108806\n",
              "3d80c196dc0a67      0.645750\n",
              "16c00bc426294f     -0.004051\n",
              "52a70ecac30104      0.470153\n",
              "adb4712b7e517d      0.059224\n",
              "1da7c8e928d53a      0.830152\n",
              "b11a6157ccb34e      0.008732\n",
              "\n",
              "[100 rows x 1 columns]"
            ]
          },
          "metadata": {
            "tags": []
          },
          "execution_count": 68
        }
      ]
    },
    {
      "metadata": {
        "id": "L2vOMoHOOqhy",
        "colab_type": "code",
        "colab": {}
      },
      "cell_type": "code",
      "source": [
        "predictions.to_csv('submission.csv', header=True)"
      ],
      "execution_count": 0,
      "outputs": []
    },
    {
      "metadata": {
        "id": "Geh9LGG0O2ew",
        "colab_type": "code",
        "outputId": "bb78caf0-4bf1-4dd1-a26c-d96f8abe7cb4",
        "colab": {
          "base_uri": "https://localhost:8080/",
          "height": 34
        }
      },
      "cell_type": "code",
      "source": [
        "type(tr_test['Id'])"
      ],
      "execution_count": 0,
      "outputs": [
        {
          "output_type": "execute_result",
          "data": {
            "text/plain": [
              "pandas.core.series.Series"
            ]
          },
          "metadata": {
            "tags": []
          },
          "execution_count": 41
        }
      ]
    },
    {
      "metadata": {
        "id": "3WX5fF6YQAXl",
        "colab_type": "code",
        "outputId": "99281244-0104-46ba-932f-44f2498e81c7",
        "colab": {
          "base_uri": "https://localhost:8080/",
          "height": 34
        }
      },
      "cell_type": "code",
      "source": [
        "predict = pd.DataFrame(y_predict)\n",
        "type(predict[0])"
      ],
      "execution_count": 0,
      "outputs": [
        {
          "output_type": "execute_result",
          "data": {
            "text/plain": [
              "pandas.core.series.Series"
            ]
          },
          "metadata": {
            "tags": []
          },
          "execution_count": 43
        }
      ]
    },
    {
      "metadata": {
        "id": "2mzVb9f_slxf",
        "colab_type": "code",
        "outputId": "fc02e5ed-25b7-4f4b-ed4f-4519af39832e",
        "colab": {
          "base_uri": "https://localhost:8080/",
          "height": 34
        }
      },
      "cell_type": "code",
      "source": [
        "tr_train.shape\n"
      ],
      "execution_count": 0,
      "outputs": [
        {
          "output_type": "execute_result",
          "data": {
            "text/plain": [
              "(4446966, 29)"
            ]
          },
          "metadata": {
            "tags": []
          },
          "execution_count": 9
        }
      ]
    },
    {
      "metadata": {
        "id": "2D4SvzaKBYIb",
        "colab_type": "code",
        "outputId": "3647be9b-8423-43c0-d731-50216d3f566f",
        "colab": {
          "base_uri": "https://localhost:8080/",
          "height": 134
        }
      },
      "cell_type": "code",
      "source": [
        "tr_train.columns"
      ],
      "execution_count": 0,
      "outputs": [
        {
          "output_type": "execute_result",
          "data": {
            "text/plain": [
              "Index(['Id', 'groupId', 'matchId', 'assists', 'boosts', 'damageDealt', 'DBNOs',\n",
              "       'headshotKills', 'heals', 'killPlace', 'killPoints', 'kills',\n",
              "       'killStreaks', 'longestKill', 'matchDuration', 'matchType', 'maxPlace',\n",
              "       'numGroups', 'rankPoints', 'revives', 'rideDistance', 'roadKills',\n",
              "       'swimDistance', 'teamKills', 'vehicleDestroys', 'walkDistance',\n",
              "       'weaponsAcquired', 'winPoints', 'winPlacePerc'],\n",
              "      dtype='object')"
            ]
          },
          "metadata": {
            "tags": []
          },
          "execution_count": 10
        }
      ]
    },
    {
      "metadata": {
        "id": "zCdGTP_C6gHC",
        "colab_type": "code",
        "outputId": "eb6e8ae6-33ce-4ee6-8ab3-98102604fe47",
        "colab": {
          "base_uri": "https://localhost:8080/",
          "height": 34
        }
      },
      "cell_type": "code",
      "source": [
        "type(tr_train.columns)\n",
        "\n"
      ],
      "execution_count": 0,
      "outputs": [
        {
          "output_type": "execute_result",
          "data": {
            "text/plain": [
              "pandas.core.indexes.base.Index"
            ]
          },
          "metadata": {
            "tags": []
          },
          "execution_count": 11
        }
      ]
    },
    {
      "metadata": {
        "id": "1yB9CxLQsABS",
        "colab_type": "code",
        "outputId": "d15c791c-cdad-4a89-cbd5-ac047f50091c",
        "colab": {
          "base_uri": "https://localhost:8080/",
          "height": 34
        }
      },
      "cell_type": "code",
      "source": [
        "tr_train.index"
      ],
      "execution_count": 0,
      "outputs": [
        {
          "output_type": "execute_result",
          "data": {
            "text/plain": [
              "RangeIndex(start=0, stop=4446966, step=1)"
            ]
          },
          "metadata": {
            "tags": []
          },
          "execution_count": 12
        }
      ]
    },
    {
      "metadata": {
        "id": "4q101V_usAii",
        "colab_type": "code",
        "outputId": "73d80d57-61df-4102-8884-f85ada013b5b",
        "colab": {
          "base_uri": "https://localhost:8080/",
          "height": 244
        }
      },
      "cell_type": "code",
      "source": [
        "tr_train.iloc[-5:,:]"
      ],
      "execution_count": 0,
      "outputs": [
        {
          "output_type": "execute_result",
          "data": {
            "text/html": [
              "<div>\n",
              "<style scoped>\n",
              "    .dataframe tbody tr th:only-of-type {\n",
              "        vertical-align: middle;\n",
              "    }\n",
              "\n",
              "    .dataframe tbody tr th {\n",
              "        vertical-align: top;\n",
              "    }\n",
              "\n",
              "    .dataframe thead th {\n",
              "        text-align: right;\n",
              "    }\n",
              "</style>\n",
              "<table border=\"1\" class=\"dataframe\">\n",
              "  <thead>\n",
              "    <tr style=\"text-align: right;\">\n",
              "      <th></th>\n",
              "      <th>Id</th>\n",
              "      <th>groupId</th>\n",
              "      <th>matchId</th>\n",
              "      <th>assists</th>\n",
              "      <th>boosts</th>\n",
              "      <th>damageDealt</th>\n",
              "      <th>DBNOs</th>\n",
              "      <th>headshotKills</th>\n",
              "      <th>heals</th>\n",
              "      <th>killPlace</th>\n",
              "      <th>...</th>\n",
              "      <th>revives</th>\n",
              "      <th>rideDistance</th>\n",
              "      <th>roadKills</th>\n",
              "      <th>swimDistance</th>\n",
              "      <th>teamKills</th>\n",
              "      <th>vehicleDestroys</th>\n",
              "      <th>walkDistance</th>\n",
              "      <th>weaponsAcquired</th>\n",
              "      <th>winPoints</th>\n",
              "      <th>winPlacePerc</th>\n",
              "    </tr>\n",
              "  </thead>\n",
              "  <tbody>\n",
              "    <tr>\n",
              "      <th>4446961</th>\n",
              "      <td>afff7f652dbc10</td>\n",
              "      <td>d238e426f50de7</td>\n",
              "      <td>18492834ce5635</td>\n",
              "      <td>0</td>\n",
              "      <td>0</td>\n",
              "      <td>0.00000</td>\n",
              "      <td>0</td>\n",
              "      <td>0</td>\n",
              "      <td>0</td>\n",
              "      <td>74</td>\n",
              "      <td>...</td>\n",
              "      <td>0</td>\n",
              "      <td>1292.0</td>\n",
              "      <td>0</td>\n",
              "      <td>0.000000</td>\n",
              "      <td>0</td>\n",
              "      <td>0</td>\n",
              "      <td>1019.0000</td>\n",
              "      <td>3</td>\n",
              "      <td>1507</td>\n",
              "      <td>0.178589</td>\n",
              "    </tr>\n",
              "    <tr>\n",
              "      <th>4446962</th>\n",
              "      <td>f4197cf374e6c0</td>\n",
              "      <td>408cdb5c46b2ac</td>\n",
              "      <td>ee854b837376d9</td>\n",
              "      <td>0</td>\n",
              "      <td>1</td>\n",
              "      <td>44.15625</td>\n",
              "      <td>0</td>\n",
              "      <td>0</td>\n",
              "      <td>0</td>\n",
              "      <td>69</td>\n",
              "      <td>...</td>\n",
              "      <td>0</td>\n",
              "      <td>0.0</td>\n",
              "      <td>0</td>\n",
              "      <td>0.000000</td>\n",
              "      <td>0</td>\n",
              "      <td>0</td>\n",
              "      <td>81.6875</td>\n",
              "      <td>6</td>\n",
              "      <td>0</td>\n",
              "      <td>0.293457</td>\n",
              "    </tr>\n",
              "    <tr>\n",
              "      <th>4446963</th>\n",
              "      <td>e1948b1295c88a</td>\n",
              "      <td>e26ac84bdf7cef</td>\n",
              "      <td>6d0cd12784f1ab</td>\n",
              "      <td>0</td>\n",
              "      <td>0</td>\n",
              "      <td>59.06250</td>\n",
              "      <td>0</td>\n",
              "      <td>0</td>\n",
              "      <td>0</td>\n",
              "      <td>66</td>\n",
              "      <td>...</td>\n",
              "      <td>0</td>\n",
              "      <td>0.0</td>\n",
              "      <td>0</td>\n",
              "      <td>2.183594</td>\n",
              "      <td>0</td>\n",
              "      <td>0</td>\n",
              "      <td>788.5000</td>\n",
              "      <td>4</td>\n",
              "      <td>0</td>\n",
              "      <td>0.481445</td>\n",
              "    </tr>\n",
              "    <tr>\n",
              "      <th>4446964</th>\n",
              "      <td>cc032cdd73b7ac</td>\n",
              "      <td>c2223f35411394</td>\n",
              "      <td>c9c701d0ad758a</td>\n",
              "      <td>0</td>\n",
              "      <td>4</td>\n",
              "      <td>180.37500</td>\n",
              "      <td>1</td>\n",
              "      <td>1</td>\n",
              "      <td>2</td>\n",
              "      <td>11</td>\n",
              "      <td>...</td>\n",
              "      <td>2</td>\n",
              "      <td>0.0</td>\n",
              "      <td>0</td>\n",
              "      <td>0.000000</td>\n",
              "      <td>0</td>\n",
              "      <td>0</td>\n",
              "      <td>2748.0000</td>\n",
              "      <td>8</td>\n",
              "      <td>0</td>\n",
              "      <td>0.799805</td>\n",
              "    </tr>\n",
              "    <tr>\n",
              "      <th>4446965</th>\n",
              "      <td>0d8e7ed728b6fd</td>\n",
              "      <td>8c74f72fedf5ff</td>\n",
              "      <td>62a16aabcc095c</td>\n",
              "      <td>0</td>\n",
              "      <td>2</td>\n",
              "      <td>268.00000</td>\n",
              "      <td>0</td>\n",
              "      <td>0</td>\n",
              "      <td>1</td>\n",
              "      <td>18</td>\n",
              "      <td>...</td>\n",
              "      <td>0</td>\n",
              "      <td>1369.0</td>\n",
              "      <td>0</td>\n",
              "      <td>0.000000</td>\n",
              "      <td>0</td>\n",
              "      <td>0</td>\n",
              "      <td>1244.0000</td>\n",
              "      <td>5</td>\n",
              "      <td>0</td>\n",
              "      <td>0.546387</td>\n",
              "    </tr>\n",
              "  </tbody>\n",
              "</table>\n",
              "<p>5 rows × 29 columns</p>\n",
              "</div>"
            ],
            "text/plain": [
              "                     Id         groupId         matchId  assists  boosts  \\\n",
              "4446961  afff7f652dbc10  d238e426f50de7  18492834ce5635        0       0   \n",
              "4446962  f4197cf374e6c0  408cdb5c46b2ac  ee854b837376d9        0       1   \n",
              "4446963  e1948b1295c88a  e26ac84bdf7cef  6d0cd12784f1ab        0       0   \n",
              "4446964  cc032cdd73b7ac  c2223f35411394  c9c701d0ad758a        0       4   \n",
              "4446965  0d8e7ed728b6fd  8c74f72fedf5ff  62a16aabcc095c        0       2   \n",
              "\n",
              "         damageDealt  DBNOs  headshotKills  heals  killPlace      ...       \\\n",
              "4446961      0.00000      0              0      0         74      ...        \n",
              "4446962     44.15625      0              0      0         69      ...        \n",
              "4446963     59.06250      0              0      0         66      ...        \n",
              "4446964    180.37500      1              1      2         11      ...        \n",
              "4446965    268.00000      0              0      1         18      ...        \n",
              "\n",
              "         revives  rideDistance  roadKills  swimDistance  teamKills  \\\n",
              "4446961        0        1292.0          0      0.000000          0   \n",
              "4446962        0           0.0          0      0.000000          0   \n",
              "4446963        0           0.0          0      2.183594          0   \n",
              "4446964        2           0.0          0      0.000000          0   \n",
              "4446965        0        1369.0          0      0.000000          0   \n",
              "\n",
              "        vehicleDestroys  walkDistance  weaponsAcquired  winPoints  \\\n",
              "4446961               0     1019.0000                3       1507   \n",
              "4446962               0       81.6875                6          0   \n",
              "4446963               0      788.5000                4          0   \n",
              "4446964               0     2748.0000                8          0   \n",
              "4446965               0     1244.0000                5          0   \n",
              "\n",
              "         winPlacePerc  \n",
              "4446961      0.178589  \n",
              "4446962      0.293457  \n",
              "4446963      0.481445  \n",
              "4446964      0.799805  \n",
              "4446965      0.546387  \n",
              "\n",
              "[5 rows x 29 columns]"
            ]
          },
          "metadata": {
            "tags": []
          },
          "execution_count": 15
        }
      ]
    },
    {
      "metadata": {
        "id": "gV69nMLesA_E",
        "colab_type": "code",
        "outputId": "ff376983-969f-44cd-e18d-888ae9686c36",
        "colab": {
          "base_uri": "https://localhost:8080/",
          "height": 244
        }
      },
      "cell_type": "code",
      "source": [
        "tr_train.head(5)"
      ],
      "execution_count": 0,
      "outputs": [
        {
          "output_type": "execute_result",
          "data": {
            "text/html": [
              "<div>\n",
              "<style scoped>\n",
              "    .dataframe tbody tr th:only-of-type {\n",
              "        vertical-align: middle;\n",
              "    }\n",
              "\n",
              "    .dataframe tbody tr th {\n",
              "        vertical-align: top;\n",
              "    }\n",
              "\n",
              "    .dataframe thead th {\n",
              "        text-align: right;\n",
              "    }\n",
              "</style>\n",
              "<table border=\"1\" class=\"dataframe\">\n",
              "  <thead>\n",
              "    <tr style=\"text-align: right;\">\n",
              "      <th></th>\n",
              "      <th>Id</th>\n",
              "      <th>groupId</th>\n",
              "      <th>matchId</th>\n",
              "      <th>assists</th>\n",
              "      <th>boosts</th>\n",
              "      <th>damageDealt</th>\n",
              "      <th>DBNOs</th>\n",
              "      <th>headshotKills</th>\n",
              "      <th>heals</th>\n",
              "      <th>killPlace</th>\n",
              "      <th>...</th>\n",
              "      <th>revives</th>\n",
              "      <th>rideDistance</th>\n",
              "      <th>roadKills</th>\n",
              "      <th>swimDistance</th>\n",
              "      <th>teamKills</th>\n",
              "      <th>vehicleDestroys</th>\n",
              "      <th>walkDistance</th>\n",
              "      <th>weaponsAcquired</th>\n",
              "      <th>winPoints</th>\n",
              "      <th>winPlacePerc</th>\n",
              "    </tr>\n",
              "  </thead>\n",
              "  <tbody>\n",
              "    <tr>\n",
              "      <th>0</th>\n",
              "      <td>7f96b2f878858a</td>\n",
              "      <td>4d4b580de459be</td>\n",
              "      <td>a10357fd1a4a91</td>\n",
              "      <td>0</td>\n",
              "      <td>0</td>\n",
              "      <td>0.00000</td>\n",
              "      <td>0</td>\n",
              "      <td>0</td>\n",
              "      <td>0</td>\n",
              "      <td>60</td>\n",
              "      <td>...</td>\n",
              "      <td>0</td>\n",
              "      <td>0.000000</td>\n",
              "      <td>0</td>\n",
              "      <td>0.000000</td>\n",
              "      <td>0</td>\n",
              "      <td>0</td>\n",
              "      <td>244.75</td>\n",
              "      <td>1</td>\n",
              "      <td>1466</td>\n",
              "      <td>0.444336</td>\n",
              "    </tr>\n",
              "    <tr>\n",
              "      <th>1</th>\n",
              "      <td>eef90569b9d03c</td>\n",
              "      <td>684d5656442f9e</td>\n",
              "      <td>aeb375fc57110c</td>\n",
              "      <td>0</td>\n",
              "      <td>0</td>\n",
              "      <td>91.50000</td>\n",
              "      <td>0</td>\n",
              "      <td>0</td>\n",
              "      <td>0</td>\n",
              "      <td>57</td>\n",
              "      <td>...</td>\n",
              "      <td>0</td>\n",
              "      <td>0.004501</td>\n",
              "      <td>0</td>\n",
              "      <td>11.039062</td>\n",
              "      <td>0</td>\n",
              "      <td>0</td>\n",
              "      <td>1434.00</td>\n",
              "      <td>5</td>\n",
              "      <td>0</td>\n",
              "      <td>0.640137</td>\n",
              "    </tr>\n",
              "    <tr>\n",
              "      <th>2</th>\n",
              "      <td>1eaf90ac73de72</td>\n",
              "      <td>6a4a42c3245a74</td>\n",
              "      <td>110163d8bb94ae</td>\n",
              "      <td>1</td>\n",
              "      <td>0</td>\n",
              "      <td>68.00000</td>\n",
              "      <td>0</td>\n",
              "      <td>0</td>\n",
              "      <td>0</td>\n",
              "      <td>47</td>\n",
              "      <td>...</td>\n",
              "      <td>0</td>\n",
              "      <td>0.000000</td>\n",
              "      <td>0</td>\n",
              "      <td>0.000000</td>\n",
              "      <td>0</td>\n",
              "      <td>0</td>\n",
              "      <td>161.75</td>\n",
              "      <td>2</td>\n",
              "      <td>0</td>\n",
              "      <td>0.775391</td>\n",
              "    </tr>\n",
              "    <tr>\n",
              "      <th>3</th>\n",
              "      <td>4616d365dd2853</td>\n",
              "      <td>a930a9c79cd721</td>\n",
              "      <td>f1f1f4ef412d7e</td>\n",
              "      <td>0</td>\n",
              "      <td>0</td>\n",
              "      <td>32.90625</td>\n",
              "      <td>0</td>\n",
              "      <td>0</td>\n",
              "      <td>0</td>\n",
              "      <td>75</td>\n",
              "      <td>...</td>\n",
              "      <td>0</td>\n",
              "      <td>0.000000</td>\n",
              "      <td>0</td>\n",
              "      <td>0.000000</td>\n",
              "      <td>0</td>\n",
              "      <td>0</td>\n",
              "      <td>202.75</td>\n",
              "      <td>3</td>\n",
              "      <td>0</td>\n",
              "      <td>0.166748</td>\n",
              "    </tr>\n",
              "    <tr>\n",
              "      <th>4</th>\n",
              "      <td>315c96c26c9aac</td>\n",
              "      <td>de04010b3458dd</td>\n",
              "      <td>6dc8ff871e21e6</td>\n",
              "      <td>0</td>\n",
              "      <td>0</td>\n",
              "      <td>100.00000</td>\n",
              "      <td>0</td>\n",
              "      <td>0</td>\n",
              "      <td>0</td>\n",
              "      <td>45</td>\n",
              "      <td>...</td>\n",
              "      <td>0</td>\n",
              "      <td>0.000000</td>\n",
              "      <td>0</td>\n",
              "      <td>0.000000</td>\n",
              "      <td>0</td>\n",
              "      <td>0</td>\n",
              "      <td>49.75</td>\n",
              "      <td>2</td>\n",
              "      <td>0</td>\n",
              "      <td>0.187500</td>\n",
              "    </tr>\n",
              "  </tbody>\n",
              "</table>\n",
              "<p>5 rows × 29 columns</p>\n",
              "</div>"
            ],
            "text/plain": [
              "               Id         groupId         matchId  assists  boosts  \\\n",
              "0  7f96b2f878858a  4d4b580de459be  a10357fd1a4a91        0       0   \n",
              "1  eef90569b9d03c  684d5656442f9e  aeb375fc57110c        0       0   \n",
              "2  1eaf90ac73de72  6a4a42c3245a74  110163d8bb94ae        1       0   \n",
              "3  4616d365dd2853  a930a9c79cd721  f1f1f4ef412d7e        0       0   \n",
              "4  315c96c26c9aac  de04010b3458dd  6dc8ff871e21e6        0       0   \n",
              "\n",
              "   damageDealt  DBNOs  headshotKills  heals  killPlace      ...       revives  \\\n",
              "0      0.00000      0              0      0         60      ...             0   \n",
              "1     91.50000      0              0      0         57      ...             0   \n",
              "2     68.00000      0              0      0         47      ...             0   \n",
              "3     32.90625      0              0      0         75      ...             0   \n",
              "4    100.00000      0              0      0         45      ...             0   \n",
              "\n",
              "   rideDistance  roadKills  swimDistance  teamKills vehicleDestroys  \\\n",
              "0      0.000000          0      0.000000          0               0   \n",
              "1      0.004501          0     11.039062          0               0   \n",
              "2      0.000000          0      0.000000          0               0   \n",
              "3      0.000000          0      0.000000          0               0   \n",
              "4      0.000000          0      0.000000          0               0   \n",
              "\n",
              "   walkDistance  weaponsAcquired  winPoints  winPlacePerc  \n",
              "0        244.75                1       1466      0.444336  \n",
              "1       1434.00                5          0      0.640137  \n",
              "2        161.75                2          0      0.775391  \n",
              "3        202.75                3          0      0.166748  \n",
              "4         49.75                2          0      0.187500  \n",
              "\n",
              "[5 rows x 29 columns]"
            ]
          },
          "metadata": {
            "tags": []
          },
          "execution_count": 16
        }
      ]
    },
    {
      "metadata": {
        "id": "5Z5AfncHsBI_",
        "colab_type": "code",
        "outputId": "30fac363-ee12-442a-ba10-a507a75d01e0",
        "colab": {
          "base_uri": "https://localhost:8080/",
          "height": 244
        }
      },
      "cell_type": "code",
      "source": [
        "tr_train.tail(5)"
      ],
      "execution_count": 0,
      "outputs": [
        {
          "output_type": "execute_result",
          "data": {
            "text/html": [
              "<div>\n",
              "<style scoped>\n",
              "    .dataframe tbody tr th:only-of-type {\n",
              "        vertical-align: middle;\n",
              "    }\n",
              "\n",
              "    .dataframe tbody tr th {\n",
              "        vertical-align: top;\n",
              "    }\n",
              "\n",
              "    .dataframe thead th {\n",
              "        text-align: right;\n",
              "    }\n",
              "</style>\n",
              "<table border=\"1\" class=\"dataframe\">\n",
              "  <thead>\n",
              "    <tr style=\"text-align: right;\">\n",
              "      <th></th>\n",
              "      <th>Id</th>\n",
              "      <th>groupId</th>\n",
              "      <th>matchId</th>\n",
              "      <th>assists</th>\n",
              "      <th>boosts</th>\n",
              "      <th>damageDealt</th>\n",
              "      <th>DBNOs</th>\n",
              "      <th>headshotKills</th>\n",
              "      <th>heals</th>\n",
              "      <th>killPlace</th>\n",
              "      <th>...</th>\n",
              "      <th>revives</th>\n",
              "      <th>rideDistance</th>\n",
              "      <th>roadKills</th>\n",
              "      <th>swimDistance</th>\n",
              "      <th>teamKills</th>\n",
              "      <th>vehicleDestroys</th>\n",
              "      <th>walkDistance</th>\n",
              "      <th>weaponsAcquired</th>\n",
              "      <th>winPoints</th>\n",
              "      <th>winPlacePerc</th>\n",
              "    </tr>\n",
              "  </thead>\n",
              "  <tbody>\n",
              "    <tr>\n",
              "      <th>4446961</th>\n",
              "      <td>afff7f652dbc10</td>\n",
              "      <td>d238e426f50de7</td>\n",
              "      <td>18492834ce5635</td>\n",
              "      <td>0</td>\n",
              "      <td>0</td>\n",
              "      <td>0.00000</td>\n",
              "      <td>0</td>\n",
              "      <td>0</td>\n",
              "      <td>0</td>\n",
              "      <td>74</td>\n",
              "      <td>...</td>\n",
              "      <td>0</td>\n",
              "      <td>1292.0</td>\n",
              "      <td>0</td>\n",
              "      <td>0.000000</td>\n",
              "      <td>0</td>\n",
              "      <td>0</td>\n",
              "      <td>1019.0000</td>\n",
              "      <td>3</td>\n",
              "      <td>1507</td>\n",
              "      <td>0.178589</td>\n",
              "    </tr>\n",
              "    <tr>\n",
              "      <th>4446962</th>\n",
              "      <td>f4197cf374e6c0</td>\n",
              "      <td>408cdb5c46b2ac</td>\n",
              "      <td>ee854b837376d9</td>\n",
              "      <td>0</td>\n",
              "      <td>1</td>\n",
              "      <td>44.15625</td>\n",
              "      <td>0</td>\n",
              "      <td>0</td>\n",
              "      <td>0</td>\n",
              "      <td>69</td>\n",
              "      <td>...</td>\n",
              "      <td>0</td>\n",
              "      <td>0.0</td>\n",
              "      <td>0</td>\n",
              "      <td>0.000000</td>\n",
              "      <td>0</td>\n",
              "      <td>0</td>\n",
              "      <td>81.6875</td>\n",
              "      <td>6</td>\n",
              "      <td>0</td>\n",
              "      <td>0.293457</td>\n",
              "    </tr>\n",
              "    <tr>\n",
              "      <th>4446963</th>\n",
              "      <td>e1948b1295c88a</td>\n",
              "      <td>e26ac84bdf7cef</td>\n",
              "      <td>6d0cd12784f1ab</td>\n",
              "      <td>0</td>\n",
              "      <td>0</td>\n",
              "      <td>59.06250</td>\n",
              "      <td>0</td>\n",
              "      <td>0</td>\n",
              "      <td>0</td>\n",
              "      <td>66</td>\n",
              "      <td>...</td>\n",
              "      <td>0</td>\n",
              "      <td>0.0</td>\n",
              "      <td>0</td>\n",
              "      <td>2.183594</td>\n",
              "      <td>0</td>\n",
              "      <td>0</td>\n",
              "      <td>788.5000</td>\n",
              "      <td>4</td>\n",
              "      <td>0</td>\n",
              "      <td>0.481445</td>\n",
              "    </tr>\n",
              "    <tr>\n",
              "      <th>4446964</th>\n",
              "      <td>cc032cdd73b7ac</td>\n",
              "      <td>c2223f35411394</td>\n",
              "      <td>c9c701d0ad758a</td>\n",
              "      <td>0</td>\n",
              "      <td>4</td>\n",
              "      <td>180.37500</td>\n",
              "      <td>1</td>\n",
              "      <td>1</td>\n",
              "      <td>2</td>\n",
              "      <td>11</td>\n",
              "      <td>...</td>\n",
              "      <td>2</td>\n",
              "      <td>0.0</td>\n",
              "      <td>0</td>\n",
              "      <td>0.000000</td>\n",
              "      <td>0</td>\n",
              "      <td>0</td>\n",
              "      <td>2748.0000</td>\n",
              "      <td>8</td>\n",
              "      <td>0</td>\n",
              "      <td>0.799805</td>\n",
              "    </tr>\n",
              "    <tr>\n",
              "      <th>4446965</th>\n",
              "      <td>0d8e7ed728b6fd</td>\n",
              "      <td>8c74f72fedf5ff</td>\n",
              "      <td>62a16aabcc095c</td>\n",
              "      <td>0</td>\n",
              "      <td>2</td>\n",
              "      <td>268.00000</td>\n",
              "      <td>0</td>\n",
              "      <td>0</td>\n",
              "      <td>1</td>\n",
              "      <td>18</td>\n",
              "      <td>...</td>\n",
              "      <td>0</td>\n",
              "      <td>1369.0</td>\n",
              "      <td>0</td>\n",
              "      <td>0.000000</td>\n",
              "      <td>0</td>\n",
              "      <td>0</td>\n",
              "      <td>1244.0000</td>\n",
              "      <td>5</td>\n",
              "      <td>0</td>\n",
              "      <td>0.546387</td>\n",
              "    </tr>\n",
              "  </tbody>\n",
              "</table>\n",
              "<p>5 rows × 29 columns</p>\n",
              "</div>"
            ],
            "text/plain": [
              "                     Id         groupId         matchId  assists  boosts  \\\n",
              "4446961  afff7f652dbc10  d238e426f50de7  18492834ce5635        0       0   \n",
              "4446962  f4197cf374e6c0  408cdb5c46b2ac  ee854b837376d9        0       1   \n",
              "4446963  e1948b1295c88a  e26ac84bdf7cef  6d0cd12784f1ab        0       0   \n",
              "4446964  cc032cdd73b7ac  c2223f35411394  c9c701d0ad758a        0       4   \n",
              "4446965  0d8e7ed728b6fd  8c74f72fedf5ff  62a16aabcc095c        0       2   \n",
              "\n",
              "         damageDealt  DBNOs  headshotKills  heals  killPlace      ...       \\\n",
              "4446961      0.00000      0              0      0         74      ...        \n",
              "4446962     44.15625      0              0      0         69      ...        \n",
              "4446963     59.06250      0              0      0         66      ...        \n",
              "4446964    180.37500      1              1      2         11      ...        \n",
              "4446965    268.00000      0              0      1         18      ...        \n",
              "\n",
              "         revives  rideDistance  roadKills  swimDistance  teamKills  \\\n",
              "4446961        0        1292.0          0      0.000000          0   \n",
              "4446962        0           0.0          0      0.000000          0   \n",
              "4446963        0           0.0          0      2.183594          0   \n",
              "4446964        2           0.0          0      0.000000          0   \n",
              "4446965        0        1369.0          0      0.000000          0   \n",
              "\n",
              "        vehicleDestroys  walkDistance  weaponsAcquired  winPoints  \\\n",
              "4446961               0     1019.0000                3       1507   \n",
              "4446962               0       81.6875                6          0   \n",
              "4446963               0      788.5000                4          0   \n",
              "4446964               0     2748.0000                8          0   \n",
              "4446965               0     1244.0000                5          0   \n",
              "\n",
              "         winPlacePerc  \n",
              "4446961      0.178589  \n",
              "4446962      0.293457  \n",
              "4446963      0.481445  \n",
              "4446964      0.799805  \n",
              "4446965      0.546387  \n",
              "\n",
              "[5 rows x 29 columns]"
            ]
          },
          "metadata": {
            "tags": []
          },
          "execution_count": 17
        }
      ]
    },
    {
      "metadata": {
        "id": "d4PjoQOXWcuO",
        "colab_type": "code",
        "outputId": "0a00a819-882a-400b-cb09-37fe221cd72e",
        "colab": {
          "base_uri": "https://localhost:8080/",
          "height": 588
        }
      },
      "cell_type": "code",
      "source": [
        "tr_train.info()"
      ],
      "execution_count": 0,
      "outputs": [
        {
          "output_type": "stream",
          "text": [
            "<class 'pandas.core.frame.DataFrame'>\n",
            "RangeIndex: 4446966 entries, 0 to 4446965\n",
            "Data columns (total 29 columns):\n",
            "Id                 object\n",
            "groupId            object\n",
            "matchId            object\n",
            "assists            int8\n",
            "boosts             int8\n",
            "damageDealt        float16\n",
            "DBNOs              int8\n",
            "headshotKills      int8\n",
            "heals              int8\n",
            "killPlace          int8\n",
            "killPoints         int16\n",
            "kills              int8\n",
            "killStreaks        int8\n",
            "longestKill        float16\n",
            "matchDuration      int16\n",
            "matchType          object\n",
            "maxPlace           int8\n",
            "numGroups          int8\n",
            "rankPoints         int16\n",
            "revives            int8\n",
            "rideDistance       float16\n",
            "roadKills          int8\n",
            "swimDistance       float16\n",
            "teamKills          int8\n",
            "vehicleDestroys    int8\n",
            "walkDistance       float16\n",
            "weaponsAcquired    int16\n",
            "winPoints          int16\n",
            "winPlacePerc       float16\n",
            "dtypes: float16(6), int16(5), int8(14), object(4)\n",
            "memory usage: 288.4+ MB\n"
          ],
          "name": "stdout"
        }
      ]
    },
    {
      "metadata": {
        "id": "Ru6rUryIWc2E",
        "colab_type": "code",
        "outputId": "3fc4d2d6-57e7-4d42-d838-d77bfdfa8855",
        "colab": {
          "base_uri": "https://localhost:8080/",
          "height": 34
        }
      },
      "cell_type": "code",
      "source": [
        "type(tr_train[\"Id\"])"
      ],
      "execution_count": 0,
      "outputs": [
        {
          "output_type": "execute_result",
          "data": {
            "text/plain": [
              "pandas.core.series.Series"
            ]
          },
          "metadata": {
            "tags": []
          },
          "execution_count": 20
        }
      ]
    },
    {
      "metadata": {
        "id": "DQ56l3LpXZ_v",
        "colab_type": "code",
        "outputId": "19e469ed-519d-424f-e0f0-ba68aa3d9892",
        "colab": {
          "base_uri": "https://localhost:8080/",
          "height": 347
        }
      },
      "cell_type": "code",
      "source": [
        "cols = ['winPlacePerc', 'walkDistance', 'killPlace', 'boosts']\n",
        "tr_train[cols].plot(kind = 'box', subplots = True)\n",
        "plt.show()"
      ],
      "execution_count": 0,
      "outputs": [
        {
          "output_type": "display_data",
          "data": {
            "image/png": "[encoded data removed]",
            "text/plain": [
              "<matplotlib.figure.Figure at 0x7fe5db7e76d8>"
            ]
          },
          "metadata": {
            "tags": []
          }
        }
      ]
    },
    {
      "metadata": {
        "id": "Ys5gXn7lXaCq",
        "colab_type": "code",
        "outputId": "a691a876-1249-4f5f-8493-17b79c58ef8a",
        "colab": {
          "base_uri": "https://localhost:8080/",
          "height": 333
        }
      },
      "cell_type": "code",
      "source": [
        "tr_train.describe()"
      ],
      "execution_count": 0,
      "outputs": [
        {
          "output_type": "execute_result",
          "data": {
            "text/html": [
              "<div>\n",
              "<style scoped>\n",
              "    .dataframe tbody tr th:only-of-type {\n",
              "        vertical-align: middle;\n",
              "    }\n",
              "\n",
              "    .dataframe tbody tr th {\n",
              "        vertical-align: top;\n",
              "    }\n",
              "\n",
              "    .dataframe thead th {\n",
              "        text-align: right;\n",
              "    }\n",
              "</style>\n",
              "<table border=\"1\" class=\"dataframe\">\n",
              "  <thead>\n",
              "    <tr style=\"text-align: right;\">\n",
              "      <th></th>\n",
              "      <th>assists</th>\n",
              "      <th>boosts</th>\n",
              "      <th>damageDealt</th>\n",
              "      <th>DBNOs</th>\n",
              "      <th>headshotKills</th>\n",
              "      <th>heals</th>\n",
              "      <th>killPlace</th>\n",
              "      <th>killPoints</th>\n",
              "      <th>kills</th>\n",
              "      <th>killStreaks</th>\n",
              "      <th>...</th>\n",
              "      <th>revives</th>\n",
              "      <th>rideDistance</th>\n",
              "      <th>roadKills</th>\n",
              "      <th>swimDistance</th>\n",
              "      <th>teamKills</th>\n",
              "      <th>vehicleDestroys</th>\n",
              "      <th>walkDistance</th>\n",
              "      <th>weaponsAcquired</th>\n",
              "      <th>winPoints</th>\n",
              "      <th>winPlacePerc</th>\n",
              "    </tr>\n",
              "  </thead>\n",
              "  <tbody>\n",
              "    <tr>\n",
              "      <th>count</th>\n",
              "      <td>4.446966e+06</td>\n",
              "      <td>4.446966e+06</td>\n",
              "      <td>4446966.00</td>\n",
              "      <td>4.446966e+06</td>\n",
              "      <td>4.446966e+06</td>\n",
              "      <td>4.446966e+06</td>\n",
              "      <td>4.446966e+06</td>\n",
              "      <td>4.446966e+06</td>\n",
              "      <td>4.446966e+06</td>\n",
              "      <td>4.446966e+06</td>\n",
              "      <td>...</td>\n",
              "      <td>4.446966e+06</td>\n",
              "      <td>4.446966e+06</td>\n",
              "      <td>4.446966e+06</td>\n",
              "      <td>4446966.0</td>\n",
              "      <td>4.446966e+06</td>\n",
              "      <td>4.446966e+06</td>\n",
              "      <td>4446966.000</td>\n",
              "      <td>4.446966e+06</td>\n",
              "      <td>4.446966e+06</td>\n",
              "      <td>4.446965e+06</td>\n",
              "    </tr>\n",
              "    <tr>\n",
              "      <th>mean</th>\n",
              "      <td>2.338149e-01</td>\n",
              "      <td>1.106908e+00</td>\n",
              "      <td>NaN</td>\n",
              "      <td>6.578755e-01</td>\n",
              "      <td>2.268196e-01</td>\n",
              "      <td>1.370147e+00</td>\n",
              "      <td>4.759935e+01</td>\n",
              "      <td>5.050060e+02</td>\n",
              "      <td>9.247833e-01</td>\n",
              "      <td>5.439551e-01</td>\n",
              "      <td>...</td>\n",
              "      <td>1.646590e-01</td>\n",
              "      <td>NaN</td>\n",
              "      <td>3.496091e-03</td>\n",
              "      <td>NaN</td>\n",
              "      <td>2.386841e-02</td>\n",
              "      <td>7.918208e-03</td>\n",
              "      <td>NaN</td>\n",
              "      <td>3.660488e+00</td>\n",
              "      <td>6.064601e+02</td>\n",
              "      <td>NaN</td>\n",
              "    </tr>\n",
              "    <tr>\n",
              "      <th>std</th>\n",
              "      <td>5.885731e-01</td>\n",
              "      <td>1.715794e+00</td>\n",
              "      <td>NaN</td>\n",
              "      <td>1.145743e+00</td>\n",
              "      <td>6.021553e-01</td>\n",
              "      <td>2.679982e+00</td>\n",
              "      <td>2.746294e+01</td>\n",
              "      <td>6.275049e+02</td>\n",
              "      <td>1.558445e+00</td>\n",
              "      <td>7.109721e-01</td>\n",
              "      <td>...</td>\n",
              "      <td>4.721671e-01</td>\n",
              "      <td>NaN</td>\n",
              "      <td>7.337297e-02</td>\n",
              "      <td>NaN</td>\n",
              "      <td>1.673935e-01</td>\n",
              "      <td>9.261157e-02</td>\n",
              "      <td>NaN</td>\n",
              "      <td>2.456544e+00</td>\n",
              "      <td>7.397004e+02</td>\n",
              "      <td>0.000000e+00</td>\n",
              "    </tr>\n",
              "    <tr>\n",
              "      <th>min</th>\n",
              "      <td>0.000000e+00</td>\n",
              "      <td>0.000000e+00</td>\n",
              "      <td>0.00</td>\n",
              "      <td>0.000000e+00</td>\n",
              "      <td>0.000000e+00</td>\n",
              "      <td>0.000000e+00</td>\n",
              "      <td>1.000000e+00</td>\n",
              "      <td>0.000000e+00</td>\n",
              "      <td>0.000000e+00</td>\n",
              "      <td>0.000000e+00</td>\n",
              "      <td>...</td>\n",
              "      <td>0.000000e+00</td>\n",
              "      <td>0.000000e+00</td>\n",
              "      <td>0.000000e+00</td>\n",
              "      <td>0.0</td>\n",
              "      <td>0.000000e+00</td>\n",
              "      <td>0.000000e+00</td>\n",
              "      <td>0.000</td>\n",
              "      <td>0.000000e+00</td>\n",
              "      <td>0.000000e+00</td>\n",
              "      <td>0.000000e+00</td>\n",
              "    </tr>\n",
              "    <tr>\n",
              "      <th>25%</th>\n",
              "      <td>0.000000e+00</td>\n",
              "      <td>0.000000e+00</td>\n",
              "      <td>0.00</td>\n",
              "      <td>0.000000e+00</td>\n",
              "      <td>0.000000e+00</td>\n",
              "      <td>0.000000e+00</td>\n",
              "      <td>2.400000e+01</td>\n",
              "      <td>0.000000e+00</td>\n",
              "      <td>0.000000e+00</td>\n",
              "      <td>0.000000e+00</td>\n",
              "      <td>...</td>\n",
              "      <td>0.000000e+00</td>\n",
              "      <td>0.000000e+00</td>\n",
              "      <td>0.000000e+00</td>\n",
              "      <td>0.0</td>\n",
              "      <td>0.000000e+00</td>\n",
              "      <td>0.000000e+00</td>\n",
              "      <td>155.125</td>\n",
              "      <td>2.000000e+00</td>\n",
              "      <td>0.000000e+00</td>\n",
              "      <td>1.999512e-01</td>\n",
              "    </tr>\n",
              "    <tr>\n",
              "      <th>50%</th>\n",
              "      <td>0.000000e+00</td>\n",
              "      <td>0.000000e+00</td>\n",
              "      <td>84.25</td>\n",
              "      <td>0.000000e+00</td>\n",
              "      <td>0.000000e+00</td>\n",
              "      <td>0.000000e+00</td>\n",
              "      <td>4.700000e+01</td>\n",
              "      <td>0.000000e+00</td>\n",
              "      <td>0.000000e+00</td>\n",
              "      <td>0.000000e+00</td>\n",
              "      <td>...</td>\n",
              "      <td>0.000000e+00</td>\n",
              "      <td>0.000000e+00</td>\n",
              "      <td>0.000000e+00</td>\n",
              "      <td>0.0</td>\n",
              "      <td>0.000000e+00</td>\n",
              "      <td>0.000000e+00</td>\n",
              "      <td>685.500</td>\n",
              "      <td>3.000000e+00</td>\n",
              "      <td>0.000000e+00</td>\n",
              "      <td>4.582520e-01</td>\n",
              "    </tr>\n",
              "    <tr>\n",
              "      <th>75%</th>\n",
              "      <td>0.000000e+00</td>\n",
              "      <td>2.000000e+00</td>\n",
              "      <td>186.00</td>\n",
              "      <td>1.000000e+00</td>\n",
              "      <td>0.000000e+00</td>\n",
              "      <td>2.000000e+00</td>\n",
              "      <td>7.100000e+01</td>\n",
              "      <td>1.172000e+03</td>\n",
              "      <td>1.000000e+00</td>\n",
              "      <td>1.000000e+00</td>\n",
              "      <td>...</td>\n",
              "      <td>0.000000e+00</td>\n",
              "      <td>1.910095e-01</td>\n",
              "      <td>0.000000e+00</td>\n",
              "      <td>0.0</td>\n",
              "      <td>0.000000e+00</td>\n",
              "      <td>0.000000e+00</td>\n",
              "      <td>1976.000</td>\n",
              "      <td>5.000000e+00</td>\n",
              "      <td>1.495000e+03</td>\n",
              "      <td>7.407227e-01</td>\n",
              "    </tr>\n",
              "    <tr>\n",
              "      <th>max</th>\n",
              "      <td>2.200000e+01</td>\n",
              "      <td>3.300000e+01</td>\n",
              "      <td>6616.00</td>\n",
              "      <td>5.300000e+01</td>\n",
              "      <td>6.400000e+01</td>\n",
              "      <td>8.000000e+01</td>\n",
              "      <td>1.010000e+02</td>\n",
              "      <td>2.170000e+03</td>\n",
              "      <td>7.200000e+01</td>\n",
              "      <td>2.000000e+01</td>\n",
              "      <td>...</td>\n",
              "      <td>3.900000e+01</td>\n",
              "      <td>4.070400e+04</td>\n",
              "      <td>1.800000e+01</td>\n",
              "      <td>3824.0</td>\n",
              "      <td>1.200000e+01</td>\n",
              "      <td>5.000000e+00</td>\n",
              "      <td>25776.000</td>\n",
              "      <td>2.360000e+02</td>\n",
              "      <td>2.013000e+03</td>\n",
              "      <td>1.000000e+00</td>\n",
              "    </tr>\n",
              "  </tbody>\n",
              "</table>\n",
              "<p>8 rows × 25 columns</p>\n",
              "</div>"
            ],
            "text/plain": [
              "            assists        boosts  damageDealt         DBNOs  headshotKills  \\\n",
              "count  4.446966e+06  4.446966e+06   4446966.00  4.446966e+06   4.446966e+06   \n",
              "mean   2.338149e-01  1.106908e+00          NaN  6.578755e-01   2.268196e-01   \n",
              "std    5.885731e-01  1.715794e+00          NaN  1.145743e+00   6.021553e-01   \n",
              "min    0.000000e+00  0.000000e+00         0.00  0.000000e+00   0.000000e+00   \n",
              "25%    0.000000e+00  0.000000e+00         0.00  0.000000e+00   0.000000e+00   \n",
              "50%    0.000000e+00  0.000000e+00        84.25  0.000000e+00   0.000000e+00   \n",
              "75%    0.000000e+00  2.000000e+00       186.00  1.000000e+00   0.000000e+00   \n",
              "max    2.200000e+01  3.300000e+01      6616.00  5.300000e+01   6.400000e+01   \n",
              "\n",
              "              heals     killPlace    killPoints         kills   killStreaks  \\\n",
              "count  4.446966e+06  4.446966e+06  4.446966e+06  4.446966e+06  4.446966e+06   \n",
              "mean   1.370147e+00  4.759935e+01  5.050060e+02  9.247833e-01  5.439551e-01   \n",
              "std    2.679982e+00  2.746294e+01  6.275049e+02  1.558445e+00  7.109721e-01   \n",
              "min    0.000000e+00  1.000000e+00  0.000000e+00  0.000000e+00  0.000000e+00   \n",
              "25%    0.000000e+00  2.400000e+01  0.000000e+00  0.000000e+00  0.000000e+00   \n",
              "50%    0.000000e+00  4.700000e+01  0.000000e+00  0.000000e+00  0.000000e+00   \n",
              "75%    2.000000e+00  7.100000e+01  1.172000e+03  1.000000e+00  1.000000e+00   \n",
              "max    8.000000e+01  1.010000e+02  2.170000e+03  7.200000e+01  2.000000e+01   \n",
              "\n",
              "           ...            revives  rideDistance     roadKills  swimDistance  \\\n",
              "count      ...       4.446966e+06  4.446966e+06  4.446966e+06     4446966.0   \n",
              "mean       ...       1.646590e-01           NaN  3.496091e-03           NaN   \n",
              "std        ...       4.721671e-01           NaN  7.337297e-02           NaN   \n",
              "min        ...       0.000000e+00  0.000000e+00  0.000000e+00           0.0   \n",
              "25%        ...       0.000000e+00  0.000000e+00  0.000000e+00           0.0   \n",
              "50%        ...       0.000000e+00  0.000000e+00  0.000000e+00           0.0   \n",
              "75%        ...       0.000000e+00  1.910095e-01  0.000000e+00           0.0   \n",
              "max        ...       3.900000e+01  4.070400e+04  1.800000e+01        3824.0   \n",
              "\n",
              "          teamKills  vehicleDestroys  walkDistance  weaponsAcquired  \\\n",
              "count  4.446966e+06     4.446966e+06   4446966.000     4.446966e+06   \n",
              "mean   2.386841e-02     7.918208e-03           NaN     3.660488e+00   \n",
              "std    1.673935e-01     9.261157e-02           NaN     2.456544e+00   \n",
              "min    0.000000e+00     0.000000e+00         0.000     0.000000e+00   \n",
              "25%    0.000000e+00     0.000000e+00       155.125     2.000000e+00   \n",
              "50%    0.000000e+00     0.000000e+00       685.500     3.000000e+00   \n",
              "75%    0.000000e+00     0.000000e+00      1976.000     5.000000e+00   \n",
              "max    1.200000e+01     5.000000e+00     25776.000     2.360000e+02   \n",
              "\n",
              "          winPoints  winPlacePerc  \n",
              "count  4.446966e+06  4.446965e+06  \n",
              "mean   6.064601e+02           NaN  \n",
              "std    7.397004e+02  0.000000e+00  \n",
              "min    0.000000e+00  0.000000e+00  \n",
              "25%    0.000000e+00  1.999512e-01  \n",
              "50%    0.000000e+00  4.582520e-01  \n",
              "75%    1.495000e+03  7.407227e-01  \n",
              "max    2.013000e+03  1.000000e+00  \n",
              "\n",
              "[8 rows x 25 columns]"
            ]
          },
          "metadata": {
            "tags": []
          },
          "execution_count": 13
        }
      ]
    },
    {
      "metadata": {
        "id": "zpe007BvXaFr",
        "colab_type": "code",
        "colab": {}
      },
      "cell_type": "code",
      "source": [
        ""
      ],
      "execution_count": 0,
      "outputs": []
    },
    {
      "metadata": {
        "id": "Fg9jLcdQXaJF",
        "colab_type": "code",
        "colab": {}
      },
      "cell_type": "code",
      "source": [
        ""
      ],
      "execution_count": 0,
      "outputs": []
    }
  ]
}